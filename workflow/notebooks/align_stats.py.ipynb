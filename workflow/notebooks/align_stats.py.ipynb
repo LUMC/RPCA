{
 "cells": [
  {
   "cell_type": "markdown",
   "id": "4ad70d66-ae3e-4c2c-b6ff-367ebb05e311",
   "metadata": {},
   "source": [
    "# Alignment statistics"
   ]
  },
  {
   "cell_type": "markdown",
   "id": "6f37a128-2099-4052-a8cb-a4a33051131d",
   "metadata": {},
   "source": [
    "Import required modules"
   ]
  },
  {
   "cell_type": "code",
   "execution_count": 1,
   "id": "dd92a1d2-1480-44d1-8699-cec1a2b74cd5",
   "metadata": {},
   "outputs": [],
   "source": [
    "import pandas as pd\n",
    "import numpy as np\n",
    "import matplotlib.pyplot as plt\n",
    "from collections import defaultdict"
   ]
  },
  {
   "cell_type": "markdown",
   "id": "5c53d579-6592-45f5-b9bf-4491cec879dd",
   "metadata": {},
   "source": [
    "#### Data preparation"
   ]
  },
  {
   "cell_type": "markdown",
   "id": "d474d02d-3abd-44ec-87e5-ba8f1a65b94e",
   "metadata": {},
   "source": [
    "Read in samtools stats output files and populate dictonary"
   ]
  },
  {
   "cell_type": "code",
   "execution_count": 19,
   "id": "df61b9d2-7b2c-47b5-bd6c-924e041c0613",
   "metadata": {},
   "outputs": [],
   "source": [
    "stats_dict = defaultdict(list)\n",
    "for file in snakemake.input.stats:\n",
    "    with open(file) as file:\n",
    "        for line in file:\n",
    "            line = line.strip('\\n').split('\\t')\n",
    "            stats_dict[line[0]].append(float(line[1]))"
   ]
  },
  {
   "cell_type": "markdown",
   "id": "3187e9c1-aa3d-4747-82ff-08db40e9b4f0",
   "metadata": {},
   "source": [
    "Convert dictonary to pandas dataframe and rename rows"
   ]
  },
  {
   "cell_type": "code",
   "execution_count": 56,
   "id": "3c335197-33b9-47ce-95ca-a0ec4b0376d8",
   "metadata": {},
   "outputs": [],
   "source": [
    "rename = {}\n",
    "for num, name in enumerate(snakemake.params.datasetnames):\n",
    "    rename[num] = name\n",
    "    \n",
    "stats = pd.DataFrame.from_dict(stats_dict)\n",
    "stats = stats.rename(index=rename)"
   ]
  },
  {
   "cell_type": "markdown",
   "id": "8e7732c6-e4a1-4882-9bb0-d596a5c00b93",
   "metadata": {},
   "source": [
    "Take a look at the dataframe"
   ]
  },
  {
   "cell_type": "code",
   "execution_count": 57,
   "id": "70bed9a2-6819-4427-915f-c6979db8a8d1",
   "metadata": {},
   "outputs": [
    {
     "data": {
      "text/html": [
       "<div>\n",
       "<style scoped>\n",
       "    .dataframe tbody tr th:only-of-type {\n",
       "        vertical-align: middle;\n",
       "    }\n",
       "\n",
       "    .dataframe tbody tr th {\n",
       "        vertical-align: top;\n",
       "    }\n",
       "\n",
       "    .dataframe thead th {\n",
       "        text-align: right;\n",
       "    }\n",
       "</style>\n",
       "<table border=\"1\" class=\"dataframe\">\n",
       "  <thead>\n",
       "    <tr style=\"text-align: right;\">\n",
       "      <th></th>\n",
       "      <th>raw total sequences:</th>\n",
       "      <th>filtered sequences:</th>\n",
       "      <th>sequences:</th>\n",
       "      <th>is sorted:</th>\n",
       "      <th>1st fragments:</th>\n",
       "      <th>last fragments:</th>\n",
       "      <th>reads mapped:</th>\n",
       "      <th>reads mapped and paired:</th>\n",
       "      <th>reads unmapped:</th>\n",
       "      <th>reads properly paired:</th>\n",
       "      <th>...</th>\n",
       "      <th>maximum first fragment length:</th>\n",
       "      <th>maximum last fragment length:</th>\n",
       "      <th>average quality:</th>\n",
       "      <th>insert size average:</th>\n",
       "      <th>insert size standard deviation:</th>\n",
       "      <th>inward oriented pairs:</th>\n",
       "      <th>outward oriented pairs:</th>\n",
       "      <th>pairs with other orientation:</th>\n",
       "      <th>pairs on different chromosomes:</th>\n",
       "      <th>percentage of properly paired reads (%):</th>\n",
       "    </tr>\n",
       "  </thead>\n",
       "  <tbody>\n",
       "    <tr>\n",
       "      <th>stat_sum_T0.txt</th>\n",
       "      <td>667749.0</td>\n",
       "      <td>0.0</td>\n",
       "      <td>667749.0</td>\n",
       "      <td>1.0</td>\n",
       "      <td>667749.0</td>\n",
       "      <td>0.0</td>\n",
       "      <td>0.0</td>\n",
       "      <td>0.0</td>\n",
       "      <td>667749.0</td>\n",
       "      <td>0.0</td>\n",
       "      <td>...</td>\n",
       "      <td>15352.0</td>\n",
       "      <td>0.0</td>\n",
       "      <td>18.4</td>\n",
       "      <td>0.0</td>\n",
       "      <td>0.0</td>\n",
       "      <td>0.0</td>\n",
       "      <td>0.0</td>\n",
       "      <td>0.0</td>\n",
       "      <td>0.0</td>\n",
       "      <td>0.0</td>\n",
       "    </tr>\n",
       "    <tr>\n",
       "      <th>stat_sum_T1.txt</th>\n",
       "      <td>1034134.0</td>\n",
       "      <td>0.0</td>\n",
       "      <td>1034134.0</td>\n",
       "      <td>0.0</td>\n",
       "      <td>1034134.0</td>\n",
       "      <td>0.0</td>\n",
       "      <td>1807.0</td>\n",
       "      <td>0.0</td>\n",
       "      <td>1032327.0</td>\n",
       "      <td>0.0</td>\n",
       "      <td>...</td>\n",
       "      <td>15148.0</td>\n",
       "      <td>0.0</td>\n",
       "      <td>17.6</td>\n",
       "      <td>0.0</td>\n",
       "      <td>0.0</td>\n",
       "      <td>0.0</td>\n",
       "      <td>0.0</td>\n",
       "      <td>0.0</td>\n",
       "      <td>0.0</td>\n",
       "      <td>0.0</td>\n",
       "    </tr>\n",
       "    <tr>\n",
       "      <th>stat_sum_T2.txt</th>\n",
       "      <td>1136468.0</td>\n",
       "      <td>0.0</td>\n",
       "      <td>1136468.0</td>\n",
       "      <td>0.0</td>\n",
       "      <td>1136468.0</td>\n",
       "      <td>0.0</td>\n",
       "      <td>114943.0</td>\n",
       "      <td>0.0</td>\n",
       "      <td>1021525.0</td>\n",
       "      <td>0.0</td>\n",
       "      <td>...</td>\n",
       "      <td>18824.0</td>\n",
       "      <td>0.0</td>\n",
       "      <td>18.3</td>\n",
       "      <td>0.0</td>\n",
       "      <td>0.0</td>\n",
       "      <td>0.0</td>\n",
       "      <td>0.0</td>\n",
       "      <td>0.0</td>\n",
       "      <td>0.0</td>\n",
       "      <td>0.0</td>\n",
       "    </tr>\n",
       "    <tr>\n",
       "      <th>stat_sum_T3.txt</th>\n",
       "      <td>1204078.0</td>\n",
       "      <td>0.0</td>\n",
       "      <td>1204078.0</td>\n",
       "      <td>0.0</td>\n",
       "      <td>1204078.0</td>\n",
       "      <td>0.0</td>\n",
       "      <td>612958.0</td>\n",
       "      <td>0.0</td>\n",
       "      <td>591120.0</td>\n",
       "      <td>0.0</td>\n",
       "      <td>...</td>\n",
       "      <td>21549.0</td>\n",
       "      <td>0.0</td>\n",
       "      <td>18.0</td>\n",
       "      <td>0.0</td>\n",
       "      <td>0.0</td>\n",
       "      <td>0.0</td>\n",
       "      <td>0.0</td>\n",
       "      <td>0.0</td>\n",
       "      <td>0.0</td>\n",
       "      <td>0.0</td>\n",
       "    </tr>\n",
       "    <tr>\n",
       "      <th>stat_sum_T4.txt</th>\n",
       "      <td>1379487.0</td>\n",
       "      <td>0.0</td>\n",
       "      <td>1379487.0</td>\n",
       "      <td>0.0</td>\n",
       "      <td>1379487.0</td>\n",
       "      <td>0.0</td>\n",
       "      <td>922886.0</td>\n",
       "      <td>0.0</td>\n",
       "      <td>456601.0</td>\n",
       "      <td>0.0</td>\n",
       "      <td>...</td>\n",
       "      <td>15824.0</td>\n",
       "      <td>0.0</td>\n",
       "      <td>18.4</td>\n",
       "      <td>0.0</td>\n",
       "      <td>0.0</td>\n",
       "      <td>0.0</td>\n",
       "      <td>0.0</td>\n",
       "      <td>0.0</td>\n",
       "      <td>0.0</td>\n",
       "      <td>0.0</td>\n",
       "    </tr>\n",
       "    <tr>\n",
       "      <th>stat_sum_T5.txt</th>\n",
       "      <td>1372140.0</td>\n",
       "      <td>0.0</td>\n",
       "      <td>1372140.0</td>\n",
       "      <td>0.0</td>\n",
       "      <td>1372140.0</td>\n",
       "      <td>0.0</td>\n",
       "      <td>951228.0</td>\n",
       "      <td>0.0</td>\n",
       "      <td>420912.0</td>\n",
       "      <td>0.0</td>\n",
       "      <td>...</td>\n",
       "      <td>18323.0</td>\n",
       "      <td>0.0</td>\n",
       "      <td>17.7</td>\n",
       "      <td>0.0</td>\n",
       "      <td>0.0</td>\n",
       "      <td>0.0</td>\n",
       "      <td>0.0</td>\n",
       "      <td>0.0</td>\n",
       "      <td>0.0</td>\n",
       "      <td>0.0</td>\n",
       "    </tr>\n",
       "  </tbody>\n",
       "</table>\n",
       "<p>6 rows × 38 columns</p>\n",
       "</div>"
      ],
      "text/plain": [
       "                 raw total sequences:  filtered sequences:  sequences:  \\\n",
       "stat_sum_T0.txt              667749.0                  0.0    667749.0   \n",
       "stat_sum_T1.txt             1034134.0                  0.0   1034134.0   \n",
       "stat_sum_T2.txt             1136468.0                  0.0   1136468.0   \n",
       "stat_sum_T3.txt             1204078.0                  0.0   1204078.0   \n",
       "stat_sum_T4.txt             1379487.0                  0.0   1379487.0   \n",
       "stat_sum_T5.txt             1372140.0                  0.0   1372140.0   \n",
       "\n",
       "                 is sorted:  1st fragments:  last fragments:  reads mapped:  \\\n",
       "stat_sum_T0.txt         1.0        667749.0              0.0            0.0   \n",
       "stat_sum_T1.txt         0.0       1034134.0              0.0         1807.0   \n",
       "stat_sum_T2.txt         0.0       1136468.0              0.0       114943.0   \n",
       "stat_sum_T3.txt         0.0       1204078.0              0.0       612958.0   \n",
       "stat_sum_T4.txt         0.0       1379487.0              0.0       922886.0   \n",
       "stat_sum_T5.txt         0.0       1372140.0              0.0       951228.0   \n",
       "\n",
       "                 reads mapped and paired:  reads unmapped:  \\\n",
       "stat_sum_T0.txt                       0.0         667749.0   \n",
       "stat_sum_T1.txt                       0.0        1032327.0   \n",
       "stat_sum_T2.txt                       0.0        1021525.0   \n",
       "stat_sum_T3.txt                       0.0         591120.0   \n",
       "stat_sum_T4.txt                       0.0         456601.0   \n",
       "stat_sum_T5.txt                       0.0         420912.0   \n",
       "\n",
       "                 reads properly paired:  ...  maximum first fragment length:  \\\n",
       "stat_sum_T0.txt                     0.0  ...                         15352.0   \n",
       "stat_sum_T1.txt                     0.0  ...                         15148.0   \n",
       "stat_sum_T2.txt                     0.0  ...                         18824.0   \n",
       "stat_sum_T3.txt                     0.0  ...                         21549.0   \n",
       "stat_sum_T4.txt                     0.0  ...                         15824.0   \n",
       "stat_sum_T5.txt                     0.0  ...                         18323.0   \n",
       "\n",
       "                 maximum last fragment length:  average quality:  \\\n",
       "stat_sum_T0.txt                            0.0              18.4   \n",
       "stat_sum_T1.txt                            0.0              17.6   \n",
       "stat_sum_T2.txt                            0.0              18.3   \n",
       "stat_sum_T3.txt                            0.0              18.0   \n",
       "stat_sum_T4.txt                            0.0              18.4   \n",
       "stat_sum_T5.txt                            0.0              17.7   \n",
       "\n",
       "                 insert size average:  insert size standard deviation:  \\\n",
       "stat_sum_T0.txt                   0.0                              0.0   \n",
       "stat_sum_T1.txt                   0.0                              0.0   \n",
       "stat_sum_T2.txt                   0.0                              0.0   \n",
       "stat_sum_T3.txt                   0.0                              0.0   \n",
       "stat_sum_T4.txt                   0.0                              0.0   \n",
       "stat_sum_T5.txt                   0.0                              0.0   \n",
       "\n",
       "                 inward oriented pairs:  outward oriented pairs:  \\\n",
       "stat_sum_T0.txt                     0.0                      0.0   \n",
       "stat_sum_T1.txt                     0.0                      0.0   \n",
       "stat_sum_T2.txt                     0.0                      0.0   \n",
       "stat_sum_T3.txt                     0.0                      0.0   \n",
       "stat_sum_T4.txt                     0.0                      0.0   \n",
       "stat_sum_T5.txt                     0.0                      0.0   \n",
       "\n",
       "                 pairs with other orientation:  \\\n",
       "stat_sum_T0.txt                            0.0   \n",
       "stat_sum_T1.txt                            0.0   \n",
       "stat_sum_T2.txt                            0.0   \n",
       "stat_sum_T3.txt                            0.0   \n",
       "stat_sum_T4.txt                            0.0   \n",
       "stat_sum_T5.txt                            0.0   \n",
       "\n",
       "                 pairs on different chromosomes:  \\\n",
       "stat_sum_T0.txt                              0.0   \n",
       "stat_sum_T1.txt                              0.0   \n",
       "stat_sum_T2.txt                              0.0   \n",
       "stat_sum_T3.txt                              0.0   \n",
       "stat_sum_T4.txt                              0.0   \n",
       "stat_sum_T5.txt                              0.0   \n",
       "\n",
       "                 percentage of properly paired reads (%):  \n",
       "stat_sum_T0.txt                                       0.0  \n",
       "stat_sum_T1.txt                                       0.0  \n",
       "stat_sum_T2.txt                                       0.0  \n",
       "stat_sum_T3.txt                                       0.0  \n",
       "stat_sum_T4.txt                                       0.0  \n",
       "stat_sum_T5.txt                                       0.0  \n",
       "\n",
       "[6 rows x 38 columns]"
      ]
     },
     "execution_count": 57,
     "metadata": {},
     "output_type": "execute_result"
    }
   ],
   "source": [
    "stats"
   ]
  },
  {
   "cell_type": "markdown",
   "id": "a11f0b49-6747-4fdd-9495-405f775a2577",
   "metadata": {},
   "source": [
    "#### Plots"
   ]
  },
  {
   "cell_type": "markdown",
   "id": "36619b75-8c6c-4e9d-8ad7-92960d4a3764",
   "metadata": {},
   "source": [
    "Set matplotlib settings"
   ]
  },
  {
   "cell_type": "code",
   "execution_count": 46,
   "id": "4227782b-4cc7-45a4-a8fd-4c6d54b04ff3",
   "metadata": {},
   "outputs": [],
   "source": [
    "plt.rcParams[\"figure.figsize\"] = [10, 10]\n",
    "plt.rcParams[\"figure.autolayout\"] = True\n",
    "plt.rcParams.update({'font.size': 15})"
   ]
  },
  {
   "cell_type": "markdown",
   "id": "0ce9c073-6c44-45ed-bc64-0b0e75e20090",
   "metadata": {
    "tags": []
   },
   "source": [
    "Plot read alignments"
   ]
  },
  {
   "cell_type": "code",
   "execution_count": 58,
   "id": "08b20433-fc1d-457a-88f9-6a2d63bcbdb5",
   "metadata": {},
   "outputs": [
    {
     "data": {
      "text/plain": [
       "<matplotlib.legend.Legend at 0x7f4b7e22a5b0>"
      ]
     },
     "execution_count": 58,
     "metadata": {},
     "output_type": "execute_result"
    },
    {
     "data": {
      "image/png": "[encoded data removed]",
      "text/plain": [
       "<Figure size 720x720 with 1 Axes>"
      ]
     },
     "metadata": {
      "needs_background": "light"
     },
     "output_type": "display_data"
    }
   ],
   "source": [
    "cols = ['reads mapped:', 'reads unmapped:']\n",
    "stats[cols].plot(kind='bar')\n",
    "plt.yscale('log')\n",
    "plt.ylabel('Number of reads')\n",
    "plt.xlabel('sample names')\n",
    "plt.title('Read alignment per sample')\n",
    "plt.xticks(rotation=30, ha='right')\n",
    "plt.legend(loc='upper left')\n",
    "plt.savefig(snakemake.output.align, dpi=200)"
   ]
  },
  {
   "cell_type": "markdown",
   "id": "1af15de7-72d5-4b8f-b242-be6be663c64d",
   "metadata": {},
   "source": [
    "Plot mismatches"
   ]
  },
  {
   "cell_type": "code",
   "execution_count": 59,
   "id": "035f99af-0d96-42f7-ad9d-a4f5786b834c",
   "metadata": {},
   "outputs": [
    {
     "data": {
      "text/plain": [
       "(array([0, 1, 2, 3, 4, 5]),\n",
       " [Text(0, 0, 'stat_sum_T0.txt'),\n",
       "  Text(1, 0, 'stat_sum_T1.txt'),\n",
       "  Text(2, 0, 'stat_sum_T2.txt'),\n",
       "  Text(3, 0, 'stat_sum_T3.txt'),\n",
       "  Text(4, 0, 'stat_sum_T4.txt'),\n",
       "  Text(5, 0, 'stat_sum_T5.txt')])"
      ]
     },
     "execution_count": 59,
     "metadata": {},
     "output_type": "execute_result"
    },
    {
     "data": {
      "image/png": "[encoded data removed]",
      "text/plain": [
       "<Figure size 720x720 with 1 Axes>"
      ]
     },
     "metadata": {
      "needs_background": "light"
     },
     "output_type": "display_data"
    }
   ],
   "source": [
    "stats['mismatches:'].plot(kind='bar')\n",
    "plt.yscale('log')\n",
    "plt.ylabel('Number of bases')\n",
    "plt.xlabel('sample names')\n",
    "plt.title('Mismatches per sample (Adenovirus)')\n",
    "plt.xticks(rotation=30, ha='right')\n",
    "plt.savefig(snakemake.output.mismatch, dpi=200)"
   ]
  },
  {
   "cell_type": "markdown",
   "id": "3ec2420e-b02a-46ed-b6c6-938a585c0ca8",
   "metadata": {},
   "source": [
    "Plot average read length"
   ]
  },
  {
   "cell_type": "code",
   "execution_count": 60,
   "id": "d67405de-8a71-4352-ac38-7dbef141143d",
   "metadata": {},
   "outputs": [
    {
     "data": {
      "text/plain": [
       "(array([0, 1, 2, 3, 4, 5]),\n",
       " [Text(0, 0, 'stat_sum_T0.txt'),\n",
       "  Text(1, 0, 'stat_sum_T1.txt'),\n",
       "  Text(2, 0, 'stat_sum_T2.txt'),\n",
       "  Text(3, 0, 'stat_sum_T3.txt'),\n",
       "  Text(4, 0, 'stat_sum_T4.txt'),\n",
       "  Text(5, 0, 'stat_sum_T5.txt')])"
      ]
     },
     "execution_count": 60,
     "metadata": {},
     "output_type": "execute_result"
    },
    {
     "data": {
      "image/png": "[encoded data removed]",
      "text/plain": [
       "<Figure size 720x360 with 1 Axes>"
      ]
     },
     "metadata": {
      "needs_background": "light"
     },
     "output_type": "display_data"
    }
   ],
   "source": [
    "stats['average length:'].plot(kind='bar', figsize=(10, 5))\n",
    "plt.ylabel('Number of bases')\n",
    "plt.xlabel('sample names')\n",
    "plt.title('Average read length per sample')\n",
    "plt.xticks(rotation=30, ha='right')\n",
    "plt.savefig(snakemake.output.readlen, dpi=200)"
   ]
  }
 ],
 "metadata": {
  "kernelspec": {
   "display_name": "Python 3 (ipykernel)",
   "language": "python",
   "name": "python3"
  },
  "language_info": {
   "codemirror_mode": {
    "name": "ipython",
    "version": 3
   },
   "file_extension": ".py",
   "mimetype": "text/x-python",
   "name": "python",
   "nbconvert_exporter": "python",
   "pygments_lexer": "ipython3",
   "version": "3.8.5"
  }
 },
 "nbformat": 4,
 "nbformat_minor": 5
}
