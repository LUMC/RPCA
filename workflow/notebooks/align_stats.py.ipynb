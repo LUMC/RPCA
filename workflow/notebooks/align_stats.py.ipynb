{
 "cells": [
  {
   "cell_type": "markdown",
   "id": "4ad70d66-ae3e-4c2c-b6ff-367ebb05e311",
   "metadata": {},
   "source": [
    "# Alignment statistics"
   ]
  },
  {
   "cell_type": "markdown",
   "id": "6f37a128-2099-4052-a8cb-a4a33051131d",
   "metadata": {},
   "source": [
    "Import required modules"
   ]
  },
  {
   "cell_type": "code",
   "execution_count": 1,
   "id": "dd92a1d2-1480-44d1-8699-cec1a2b74cd5",
   "metadata": {},
   "outputs": [],
   "source": [
    "import pandas as pd\n",
    "import numpy as np\n",
    "import matplotlib.pyplot as plt\n",
    "from collections import defaultdict"
   ]
  },
  {
   "cell_type": "markdown",
   "id": "5c53d579-6592-45f5-b9bf-4491cec879dd",
   "metadata": {},
   "source": [
    "#### Data preparation"
   ]
  },
  {
   "cell_type": "markdown",
   "id": "f812410c-ed7d-4c8a-9249-3d746e856155",
   "metadata": {},
   "source": [
    "Read in samtools stats output files"
   ]
  },
  {
   "cell_type": "code",
   "execution_count": null,
   "id": "3e318212-60c5-4d13-a3f8-6e8f4be84d16",
   "metadata": {},
   "outputs": [],
   "source": [
    "file_names = []\n",
    "for file in snakemake.input[0]:\n",
    "    file_names.append(file)"
   ]
  },
  {
   "cell_type": "markdown",
   "id": "d474d02d-3abd-44ec-87e5-ba8f1a65b94e",
   "metadata": {},
   "source": [
    "Populate dictonary"
   ]
  },
  {
   "cell_type": "code",
   "execution_count": 2,
   "id": "df61b9d2-7b2c-47b5-bd6c-924e041c0613",
   "metadata": {},
   "outputs": [
    {
     "ename": "NameError",
     "evalue": "name 'file_names' is not defined",
     "output_type": "error",
     "traceback": [
      "\u001b[0;31m---------------------------------------------------------------------------\u001b[0m",
      "\u001b[0;31mNameError\u001b[0m                                 Traceback (most recent call last)",
      "\u001b[0;32m<ipython-input-2-fe2b02e2103e>\u001b[0m in \u001b[0;36m<module>\u001b[0;34m\u001b[0m\n\u001b[1;32m      1\u001b[0m \u001b[0mstats_dict\u001b[0m \u001b[0;34m=\u001b[0m \u001b[0mdefaultdict\u001b[0m\u001b[0;34m(\u001b[0m\u001b[0mlist\u001b[0m\u001b[0;34m)\u001b[0m\u001b[0;34m\u001b[0m\u001b[0;34m\u001b[0m\u001b[0m\n\u001b[0;32m----> 2\u001b[0;31m \u001b[0;32mfor\u001b[0m \u001b[0mfile\u001b[0m \u001b[0;32min\u001b[0m \u001b[0mfile_names\u001b[0m\u001b[0;34m:\u001b[0m\u001b[0;34m\u001b[0m\u001b[0;34m\u001b[0m\u001b[0m\n\u001b[0m\u001b[1;32m      3\u001b[0m     \u001b[0;32mwith\u001b[0m \u001b[0mopen\u001b[0m\u001b[0;34m(\u001b[0m\u001b[0mfile\u001b[0m\u001b[0;34m)\u001b[0m \u001b[0;32mas\u001b[0m \u001b[0mfile\u001b[0m\u001b[0;34m:\u001b[0m\u001b[0;34m\u001b[0m\u001b[0;34m\u001b[0m\u001b[0m\n\u001b[1;32m      4\u001b[0m         \u001b[0;32mfor\u001b[0m \u001b[0mline\u001b[0m \u001b[0;32min\u001b[0m \u001b[0mfile\u001b[0m\u001b[0;34m:\u001b[0m\u001b[0;34m\u001b[0m\u001b[0;34m\u001b[0m\u001b[0m\n\u001b[1;32m      5\u001b[0m             \u001b[0mline\u001b[0m \u001b[0;34m=\u001b[0m \u001b[0mline\u001b[0m\u001b[0;34m.\u001b[0m\u001b[0mstrip\u001b[0m\u001b[0;34m(\u001b[0m\u001b[0;34m'\\n'\u001b[0m\u001b[0;34m)\u001b[0m\u001b[0;34m.\u001b[0m\u001b[0msplit\u001b[0m\u001b[0;34m(\u001b[0m\u001b[0;34m'\\t'\u001b[0m\u001b[0;34m)\u001b[0m\u001b[0;34m\u001b[0m\u001b[0;34m\u001b[0m\u001b[0m\n",
      "\u001b[0;31mNameError\u001b[0m: name 'file_names' is not defined"
     ]
    }
   ],
   "source": [
    "stats_dict = defaultdict(list)\n",
    "for file in file_names:\n",
    "    with open(file) as file:\n",
    "        for line in file:\n",
    "            line = line.strip('\\n').split('\\t')\n",
    "            stats_dict[line[0]].append(float(line[1]))"
   ]
  },
  {
   "cell_type": "markdown",
   "id": "3187e9c1-aa3d-4747-82ff-08db40e9b4f0",
   "metadata": {},
   "source": [
    "Convert dictonary to pandas dataframe"
   ]
  },
  {
   "cell_type": "code",
   "execution_count": null,
   "id": "3c335197-33b9-47ce-95ca-a0ec4b0376d8",
   "metadata": {},
   "outputs": [],
   "source": [
    "stats = pd.DataFrame.from_dict(stats_dict)"
   ]
  },
  {
   "cell_type": "markdown",
   "id": "8e7732c6-e4a1-4882-9bb0-d596a5c00b93",
   "metadata": {},
   "source": [
    "Take a look at the dataframe"
   ]
  },
  {
   "cell_type": "code",
   "execution_count": null,
   "id": "70bed9a2-6819-4427-915f-c6979db8a8d1",
   "metadata": {},
   "outputs": [],
   "source": [
    "stats"
   ]
  },
  {
   "cell_type": "markdown",
   "id": "a11f0b49-6747-4fdd-9495-405f775a2577",
   "metadata": {},
   "source": [
    "#### Plots"
   ]
  },
  {
   "cell_type": "markdown",
   "id": "36619b75-8c6c-4e9d-8ad7-92960d4a3764",
   "metadata": {},
   "source": [
    "Set matplotlib settings"
   ]
  },
  {
   "cell_type": "code",
   "execution_count": null,
   "id": "4227782b-4cc7-45a4-a8fd-4c6d54b04ff3",
   "metadata": {},
   "outputs": [],
   "source": [
    "plt.rcParams[\"figure.figsize\"] = [10, 10]\n",
    "plt.rcParams[\"figure.autolayout\"] = True\n",
    "plt.rcParams.update({'font.size': 15})"
   ]
  },
  {
   "cell_type": "markdown",
   "id": "0ce9c073-6c44-45ed-bc64-0b0e75e20090",
   "metadata": {
    "tags": []
   },
   "source": [
    "Plot read alignments"
   ]
  },
  {
   "cell_type": "code",
   "execution_count": null,
   "id": "08b20433-fc1d-457a-88f9-6a2d63bcbdb5",
   "metadata": {},
   "outputs": [],
   "source": [
    "cols = ['reads mapped:', 'reads unmapped:']\n",
    "stats[cols].plot(kind='bar')\n",
    "plt.yscale('log')\n",
    "plt.ylabel('Number of reads')\n",
    "plt.xlabel('sample number')\n",
    "plt.title('Read alignment per sample')\n",
    "plt.legend(loc='upper left')\n",
    "# plt.savefig(snakemake.output.readalign, dpi=200)"
   ]
  },
  {
   "cell_type": "markdown",
   "id": "1af15de7-72d5-4b8f-b242-be6be663c64d",
   "metadata": {},
   "source": [
    "Plot mismatches"
   ]
  },
  {
   "cell_type": "code",
   "execution_count": null,
   "id": "035f99af-0d96-42f7-ad9d-a4f5786b834c",
   "metadata": {},
   "outputs": [],
   "source": [
    "stats['mismatches:'].plot(kind='bar')\n",
    "plt.yscale('log')\n",
    "plt.ylabel('Number of bases')\n",
    "plt.xlabel('sample number')\n",
    "plt.title('Mismatches per sample (Adenovirus)')\n",
    "# plt.savefig(snakemake.output.mismatch, dpi=200)"
   ]
  },
  {
   "cell_type": "markdown",
   "id": "3ec2420e-b02a-46ed-b6c6-938a585c0ca8",
   "metadata": {},
   "source": [
    "Plot average read length"
   ]
  },
  {
   "cell_type": "code",
   "execution_count": null,
   "id": "d67405de-8a71-4352-ac38-7dbef141143d",
   "metadata": {},
   "outputs": [],
   "source": [
    "stats['average length:'].plot(kind='bar', figsize=(10, 5))\n",
    "plt.ylabel('Number of bases')\n",
    "plt.xlabel('sample number')\n",
    "plt.title('Average read length per sample')\n",
    "# plt.savefig(snakemake.output.readlen, dpi=200)"
   ]
  }
 ],
 "metadata": {
  "kernelspec": {
   "display_name": "Python 3 (ipykernel)",
   "language": "python",
   "name": "python3"
  },
  "language_info": {
   "codemirror_mode": {
    "name": "ipython",
    "version": 3
   },
   "file_extension": ".py",
   "mimetype": "text/x-python",
   "name": "python",
   "nbconvert_exporter": "python",
   "pygments_lexer": "ipython3",
   "version": "3.8.5"
  }
 },
 "nbformat": 4,
 "nbformat_minor": 5
}
