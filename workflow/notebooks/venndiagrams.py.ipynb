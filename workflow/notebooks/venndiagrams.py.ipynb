{
 "cells": [
  {
   "cell_type": "markdown",
   "id": "04f47d94-d822-4a0c-8e0c-7a22311c2ea7",
   "metadata": {},
   "source": [
    "# GFFcompare analyses"
   ]
  },
  {
   "cell_type": "markdown",
   "id": "7a512864-f048-4e29-9053-6b7aa358ac1a",
   "metadata": {},
   "source": [
    "Import required modules"
   ]
  },
  {
   "cell_type": "code",
   "execution_count": 4,
   "id": "a766c31d-708f-4092-9a20-969f1ae6ae13",
   "metadata": {},
   "outputs": [],
   "source": [
    "import pandas as pd\n",
    "import matplotlib.pyplot as plt\n",
    "from matplotlib_venn import venn3"
   ]
  },
  {
   "cell_type": "markdown",
   "id": "1e6be6c0-5ea2-491b-813c-3bb06caee61d",
   "metadata": {},
   "source": [
    "### Data preparation:"
   ]
  },
  {
   "cell_type": "markdown",
   "id": "21624773-fd21-44bd-b78f-1c85541b8b9c",
   "metadata": {},
   "source": [
    "Define dictionary"
   ]
  },
  {
   "cell_type": "code",
   "execution_count": 1,
   "id": "07b411b1-5e50-472e-95b9-d36e715b86d9",
   "metadata": {},
   "outputs": [],
   "source": [
    "tcons = {}"
   ]
  },
  {
   "cell_type": "markdown",
   "id": "4f3fcd7c-2152-4fc9-8da0-301043abe32a",
   "metadata": {},
   "source": [
    "Read gffcmp.tracking from the [GFFcompare](https://ccb.jhu.edu/software/stringtie/gffcompare.shtml) results, adjust lines for missing values and populate dictonary."
   ]
  },
  {
   "cell_type": "code",
   "execution_count": null,
   "id": "b0ee3606-b393-4b28-b45c-c27e0b85b988",
   "metadata": {},
   "outputs": [],
   "source": [
    "with open(snakemake.input.tracking) as file:\n",
    "    for line in file:\n",
    "        line = line.split()\n",
    "        if ',' in line[4][3::]:\n",
    "            first = line[4][3::].split(',')\n",
    "            q1 = first[0].split('|')\n",
    "        else:\n",
    "            q1 = line[4][3::].split('|')\n",
    "        if ',' in line[5][3::]:\n",
    "            first = line[5][3::].split(',')\n",
    "            q2 = first[0].split('|')\n",
    "        else:\n",
    "            q2 = line[5][3::].split('|')\n",
    "        if ',' in line[6][3::]:\n",
    "            first = line[6][3::].split(',')\n",
    "            q3 = first[0].split('|')\n",
    "        else:\n",
    "            q3 = line[6][3::].split('|')\n",
    "        refgeneid = line[2].split('|')\n",
    "        if len(q1) < 2:\n",
    "            q1 = ['NA', 'NA', 0, 0, 0, 0, 0]\n",
    "        if len(q2) < 2:\n",
    "            q2 = ['NA', 'NA', 0, 0, 0, 0, 0]\n",
    "        if len(q3) < 2:\n",
    "            q3 = ['NA', 'NA', 0, 0, 0, 0, 0]\n",
    "        if len(refgeneid) < 2:\n",
    "            refgeneid = ['NA', 'NA']\n",
    "        tcons[line[0]] = [line[0], line[1], refgeneid[0], refgeneid[1], line[3],\n",
    "                          q1[0], q1[1], q1[2], q1[3], q1[4], q1[5], q1[6],\n",
    "                          q2[0], q2[1], q2[2], q2[3], q2[4], q2[5], q2[6],\n",
    "                          q3[0], q3[1], q3[2], q3[3], q3[4], q3[5], q3[6]]"
   ]
  },
  {
   "cell_type": "markdown",
   "id": "5db1561b-cf39-4ceb-aa7d-39103ca0e02c",
   "metadata": {},
   "source": [
    "Define column names for dataframe"
   ]
  },
  {
   "cell_type": "code",
   "execution_count": 3,
   "id": "633dbcc0-e672-495d-893d-ebd5d46c5a7a",
   "metadata": {},
   "outputs": [],
   "source": [
    "column_names = ['Query transfrag id', 'Query locus id', 'Reference gene name', 'Reference gene id', 'Class code',\n",
    "                'oxford.gene_id', 'oxford.transcript_id', 'oxford.num_exons', 'oxford.FPKM', 'oxford.counts',\n",
    "                'oxford.cov', 'oxford.len', 'flair.gene_id', 'flair.transcript_id', 'flair.num_exons',\n",
    "                'flair.FPKM', 'flair.counts', 'flair.cov', 'flair.len', 'talon.gene_id', 'talon.transcript_id',\n",
    "                'talon.num_exons', 'talon.FPKM', 'talon.counts', 'talon.cov', 'talon.len']"
   ]
  },
  {
   "cell_type": "markdown",
   "id": "8510c81c-1f58-4c80-8225-16c1873763f6",
   "metadata": {},
   "source": [
    "Convert dictionary to dataframe"
   ]
  },
  {
   "cell_type": "code",
   "execution_count": null,
   "id": "d062213c-d747-417c-9861-868a5c07089d",
   "metadata": {},
   "outputs": [],
   "source": [
    "df = pd.DataFrame.from_dict(tcons, orient='index', columns=column_names)"
   ]
  },
  {
   "cell_type": "markdown",
   "id": "d3d9aeff-736e-4c48-821f-9b279b0cf44b",
   "metadata": {},
   "source": [
    "Assign correct datatypes to dataframe columns"
   ]
  },
  {
   "cell_type": "code",
   "execution_count": 5,
   "id": "581282fe-db0f-4102-a2e9-1dd8621bcd2e",
   "metadata": {
    "tags": []
   },
   "outputs": [
    {
     "ename": "NameError",
     "evalue": "name 'df' is not defined",
     "output_type": "error",
     "traceback": [
      "\u001b[0;31m---------------------------------------------------------------------------\u001b[0m",
      "\u001b[0;31mNameError\u001b[0m                                 Traceback (most recent call last)",
      "\u001b[0;32m<ipython-input-5-7e7e18409d48>\u001b[0m in \u001b[0;36m<module>\u001b[0;34m\u001b[0m\n\u001b[0;32m----> 1\u001b[0;31m df = df.astype({'Query transfrag id': str, 'Query locus id': str, 'Reference gene name': str, 'Reference gene id': str,\n\u001b[0m\u001b[1;32m      2\u001b[0m                 \u001b[0;34m'Class code'\u001b[0m\u001b[0;34m:\u001b[0m \u001b[0mstr\u001b[0m\u001b[0;34m,\u001b[0m \u001b[0;34m'oxford.gene_id'\u001b[0m\u001b[0;34m:\u001b[0m \u001b[0mstr\u001b[0m\u001b[0;34m,\u001b[0m \u001b[0;34m'oxford.transcript_id'\u001b[0m\u001b[0;34m:\u001b[0m \u001b[0mstr\u001b[0m\u001b[0;34m,\u001b[0m \u001b[0;34m'oxford.num_exons'\u001b[0m\u001b[0;34m:\u001b[0m \u001b[0mint\u001b[0m\u001b[0;34m,\u001b[0m\u001b[0;34m\u001b[0m\u001b[0;34m\u001b[0m\u001b[0m\n\u001b[1;32m      3\u001b[0m                 \u001b[0;34m'oxford.FPKM'\u001b[0m\u001b[0;34m:\u001b[0m \u001b[0mfloat\u001b[0m\u001b[0;34m,\u001b[0m \u001b[0;34m'oxford.counts'\u001b[0m\u001b[0;34m:\u001b[0m \u001b[0mfloat\u001b[0m\u001b[0;34m,\u001b[0m \u001b[0;34m'oxford.cov'\u001b[0m\u001b[0;34m:\u001b[0m \u001b[0mfloat\u001b[0m\u001b[0;34m,\u001b[0m\u001b[0;34m\u001b[0m\u001b[0;34m\u001b[0m\u001b[0m\n\u001b[1;32m      4\u001b[0m                 \u001b[0;34m'oxford.len'\u001b[0m\u001b[0;34m:\u001b[0m \u001b[0mint\u001b[0m\u001b[0;34m,\u001b[0m \u001b[0;34m'flair.gene_id'\u001b[0m\u001b[0;34m:\u001b[0m \u001b[0mstr\u001b[0m\u001b[0;34m,\u001b[0m \u001b[0;34m'flair.transcript_id'\u001b[0m\u001b[0;34m:\u001b[0m \u001b[0mstr\u001b[0m\u001b[0;34m,\u001b[0m \u001b[0;34m'flair.num_exons'\u001b[0m\u001b[0;34m:\u001b[0m \u001b[0mint\u001b[0m\u001b[0;34m,\u001b[0m\u001b[0;34m\u001b[0m\u001b[0;34m\u001b[0m\u001b[0m\n\u001b[1;32m      5\u001b[0m                 \u001b[0;34m'flair.FPKM'\u001b[0m\u001b[0;34m:\u001b[0m \u001b[0mfloat\u001b[0m\u001b[0;34m,\u001b[0m \u001b[0;34m'flair.counts'\u001b[0m\u001b[0;34m:\u001b[0m \u001b[0mfloat\u001b[0m\u001b[0;34m,\u001b[0m \u001b[0;34m'flair.cov'\u001b[0m\u001b[0;34m:\u001b[0m \u001b[0mfloat\u001b[0m\u001b[0;34m,\u001b[0m \u001b[0;34m'flair.len'\u001b[0m\u001b[0;34m:\u001b[0m \u001b[0mint\u001b[0m\u001b[0;34m,\u001b[0m\u001b[0;34m\u001b[0m\u001b[0;34m\u001b[0m\u001b[0m\n",
      "\u001b[0;31mNameError\u001b[0m: name 'df' is not defined"
     ]
    }
   ],
   "source": [
    "df = df.astype({'Query transfrag id': str, 'Query locus id': str, 'Reference gene name': str, 'Reference gene id': str,\n",
    "                'Class code': str, 'oxford.gene_id': str, 'oxford.transcript_id': str, 'oxford.num_exons': int,\n",
    "                'oxford.FPKM': float, 'oxford.counts': float, 'oxford.cov': float,\n",
    "                'oxford.len': int, 'flair.gene_id': str, 'flair.transcript_id': str, 'flair.num_exons': int,\n",
    "                'flair.FPKM': float, 'flair.counts': float, 'flair.cov': float, 'flair.len': int,\n",
    "                'talon.gene_id': str, 'talon.transcript_id': str, 'talon.num_exons': int, 'talon.FPKM': float,\n",
    "                'talon.counts': float, 'talon.cov': float, 'talon.len': int})"
   ]
  },
  {
   "cell_type": "markdown",
   "id": "cbfa6fae-44ae-4f48-bd27-39f394561bb7",
   "metadata": {},
   "source": [
    "Take a look at the dataframe"
   ]
  },
  {
   "cell_type": "code",
   "execution_count": null,
   "id": "287b2273-3afc-4d54-9536-0cc847c1bc0a",
   "metadata": {},
   "outputs": [],
   "source": [
    "df"
   ]
  },
  {
   "cell_type": "markdown",
   "id": "5540ee0e-d481-4ff1-8047-470e657d1ae5",
   "metadata": {},
   "source": [
    "### Venn diagrams"
   ]
  },
  {
   "cell_type": "markdown",
   "id": "840682f6-3903-43ca-a5b4-a277638ba63e",
   "metadata": {},
   "source": [
    "Set matplotlib settings"
   ]
  },
  {
   "cell_type": "code",
   "execution_count": null,
   "id": "0fdf031a-d5c0-4f2a-9553-bcc211a30048",
   "metadata": {},
   "outputs": [],
   "source": [
    "plt.rcParams[\"figure.figsize\"] = [10, 10]\n",
    "plt.rcParams[\"figure.autolayout\"] = True\n",
    "plt.rcParams.update({'font.size': 15})"
   ]
  },
  {
   "cell_type": "markdown",
   "id": "f18df7e7-b42c-4cbb-a2bc-7181b26babeb",
   "metadata": {},
   "source": [
    "Extract transfragments with a count higher then zero for each pipeline"
   ]
  },
  {
   "cell_type": "code",
   "execution_count": null,
   "id": "3882c2ca-1119-4478-bae0-dba5b8cb151e",
   "metadata": {},
   "outputs": [],
   "source": [
    "ox_mask = (df['oxford.counts'] > 0)\n",
    "ox_array = df[ox_mask].values\n",
    "ox_values = ox_array.T[0]\n",
    "\n",
    "flair_mask = (df['flair.counts'] > 0)\n",
    "flair_array = df[flair_mask].values\n",
    "flair_values = flair_array.T[0]\n",
    "\n",
    "talon_mask = (df['talon.counts'] > 0)\n",
    "talon_array = df[talon_mask].values\n",
    "talon_values = talon_array.T[0]"
   ]
  },
  {
   "cell_type": "markdown",
   "id": "ff6eb26b-75c1-4820-b858-8c81bae18680",
   "metadata": {},
   "source": [
    "Create a venndiagram that shows overlap of transcripts that are  present in the samples"
   ]
  },
  {
   "cell_type": "code",
   "execution_count": null,
   "id": "77d1ac44-2de3-406a-a518-a514f2f29715",
   "metadata": {},
   "outputs": [],
   "source": [
    "venn3([set(ox_values), set(flair_values), set(talon_values)], ('oxford', 'flair', 'talon'))\n",
    "plt.title('Overlap of transcripts present')\n",
    "plt.savefig(snakemake.output.all, dpi=200)"
   ]
  },
  {
   "cell_type": "markdown",
   "id": "cb280663-a876-4a9f-8aff-bd4df9fb4892",
   "metadata": {},
   "source": [
    "Extract transfrag's with a count higher then zero and have a '=' class code."
   ]
  },
  {
   "cell_type": "code",
   "execution_count": null,
   "id": "08270b8e-44be-4193-a37c-e502877992ee",
   "metadata": {},
   "outputs": [],
   "source": [
    "ox_mask_known = (df['oxford.counts'] > 0) & (df['Class code'] == '=')\n",
    "ox_array_known = df[ox_mask_known].values\n",
    "ox_values_known = ox_array_known.T[0]\n",
    "\n",
    "flair_mask_known = (df['flair.counts'] > 0) & (df['Class code'] == '=')\n",
    "flair_array_known = df[flair_mask_known].values\n",
    "flair_values_known = flair_array_known.T[0]\n",
    "\n",
    "talon_mask_known = (df['talon.counts'] > 0) & (df['Class code'] == '=')\n",
    "talon_array_known = df[talon_mask_known].values\n",
    "talon_values_known = talon_array_known.T[0]"
   ]
  },
  {
   "cell_type": "markdown",
   "id": "b347c04e-745a-4cb3-a80d-8ab40b327bf2",
   "metadata": {},
   "source": [
    "Create a venndiagram with present transcripts that have being classified as known by GFFcompare."
   ]
  },
  {
   "cell_type": "code",
   "execution_count": null,
   "id": "b564937d-e8cf-4c95-a1c4-5c2b52a177f1",
   "metadata": {},
   "outputs": [],
   "source": [
    "venn3([set(ox_values_known), set(flair_values_known), set(talon_values_known)], ('oxford', 'flair', 'talon'))\n",
    "plt.title('Overlap of transcripts with classcode: \"=\"')\n",
    "plt.savefig(snakemake.output.known, dpi=200)"
   ]
  },
  {
   "cell_type": "markdown",
   "id": "5ecbefea-e2d8-4e4d-a417-2f3cfa311b36",
   "metadata": {},
   "source": [
    "Extract transfrag's with a count higher then zero and do not have a '=' class code."
   ]
  },
  {
   "cell_type": "code",
   "execution_count": null,
   "id": "cff1df8d-30c3-4a45-abed-17e1a0c54d13",
   "metadata": {},
   "outputs": [],
   "source": [
    "ox_mask_novel = (df['oxford.counts'] > 1) & (df['Class code'] != '=')\n",
    "ox_array_novel = df[ox_mask_novel].values\n",
    "ox_values_novel = ox_array_novel.T[0]\n",
    "\n",
    "flair_mask_novel = (df['flair.counts'] > 1) & (df['Class code'] != '=')\n",
    "flair_array_novel = df[flair_mask_novel].values\n",
    "flair_values_novel = flair_array_novel.T[0]\n",
    "\n",
    "talon_mask_novel = (df['talon.counts'] > 1) & (df['Class code'] != '=')\n",
    "talon_array_novel = df[talon_mask_novel].values\n",
    "talon_values_novel = talon_array_novel.T[0]"
   ]
  },
  {
   "cell_type": "markdown",
   "id": "7d4005d5-309a-4ea7-9028-4cef9be99d9d",
   "metadata": {},
   "source": [
    "Create a venndiagram with present transcripts that have being classified as novel by GFFcompare"
   ]
  },
  {
   "cell_type": "code",
   "execution_count": null,
   "id": "a94980dc-f3fa-4adb-a047-2592c272668f",
   "metadata": {},
   "outputs": [],
   "source": [
    "venn3([set(ox_values_novel), set(flair_values_novel), set(talon_values_novel)], ('oxford', 'flair', 'talon'))\n",
    "plt.title('Overlap of transcripts that do NOT have classcode: \"=\"')\n",
    "plt.savefig(snakemake.output.novel, dpi=200)"
   ]
  }
 ],
 "metadata": {
  "kernelspec": {
   "display_name": "Python 3 (ipykernel)",
   "language": "python",
   "name": "python3"
  },
  "language_info": {
   "codemirror_mode": {
    "name": "ipython",
    "version": 3
   },
   "file_extension": ".py",
   "mimetype": "text/x-python",
   "name": "python",
   "nbconvert_exporter": "python",
   "pygments_lexer": "ipython3",
   "version": "3.8.5"
  }
 },
 "nbformat": 4,
 "nbformat_minor": 5
}
