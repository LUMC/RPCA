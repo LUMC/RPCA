{
 "cells": [
  {
   "cell_type": "markdown",
   "id": "04f47d94-d822-4a0c-8e0c-7a22311c2ea7",
   "metadata": {},
   "source": [
    "# GFFcompare analyses"
   ]
  },
  {
   "cell_type": "markdown",
   "id": "7a512864-f048-4e29-9053-6b7aa358ac1a",
   "metadata": {},
   "source": [
    "Import required modules"
   ]
  },
  {
   "cell_type": "code",
   "execution_count": null,
   "id": "a766c31d-708f-4092-9a20-969f1ae6ae13",
   "metadata": {},
   "outputs": [],
   "source": [
    "import pandas as pd\n",
    "import matplotlib.pyplot as plt\n",
    "from matplotlib_venn import venn3\n",
    "from upsetplot import from_contents, UpSet, plot as upset_plot\n",
    "import df2img\n",
    "from IPython.display import display, HTML"
   ]
  },
  {
   "cell_type": "markdown",
   "id": "a8be20fd-67f5-4250-85e3-723933dc6a0f",
   "metadata": {},
   "source": [
    "Define function for forcing a table to display all of it contents"
   ]
  },
  {
   "cell_type": "code",
   "execution_count": null,
   "id": "6d7a9ca8-c1ca-45fb-b1d2-1eaadffac98a",
   "metadata": {},
   "outputs": [],
   "source": [
    "def force_show_all(df):\n",
    "    with pd.option_context('display.max_rows', None, 'display.max_columns', None, 'display.width', None):\n",
    "        display(HTML(df.to_html()))"
   ]
  },
  {
   "cell_type": "markdown",
   "id": "1e6be6c0-5ea2-491b-813c-3bb06caee61d",
   "metadata": {
    "tags": []
   },
   "source": [
    "### Data preparation:"
   ]
  },
  {
   "cell_type": "markdown",
   "id": "4f3fcd7c-2152-4fc9-8da0-301043abe32a",
   "metadata": {},
   "source": [
    "Read gffcmp.tracking from the [GFFcompare](https://ccb.jhu.edu/software/stringtie/gffcompare.shtml) results, adjust lines for missing values and populate dictonary."
   ]
  },
  {
   "cell_type": "code",
   "execution_count": null,
   "id": "b0ee3606-b393-4b28-b45c-c27e0b85b988",
   "metadata": {},
   "outputs": [],
   "source": [
    "tcons = {}\n",
    "with open(snakemake.input.tracking) as file:\n",
    "    for line in file:\n",
    "        line = line.split()\n",
    "        if ',' in line[4][3::]:\n",
    "            first = line[4][3::].split(',')\n",
    "            q1 = first[0].split('|')\n",
    "        else:\n",
    "            q1 = line[4][3::].split('|')\n",
    "        if ',' in line[5][3::]:\n",
    "            first = line[5][3::].split(',')\n",
    "            q2 = first[0].split('|')\n",
    "        else:\n",
    "            q2 = line[5][3::].split('|')\n",
    "        if ',' in line[6][3::]:\n",
    "            first = line[6][3::].split(',')\n",
    "            q3 = first[0].split('|')\n",
    "        else:\n",
    "            q3 = line[6][3::].split('|')\n",
    "        refgeneid = line[2].split('|')\n",
    "        if len(q1) < 2:\n",
    "            q1 = ['NA', 'NA', 0, 0, 0, 0, 0]\n",
    "        if len(q2) < 2:\n",
    "            q2 = ['NA', 'NA', 0, 0, 0, 0, 0]\n",
    "        if len(q3) < 2:\n",
    "            q3 = ['NA', 'NA', 0, 0, 0, 0, 0]\n",
    "        if len(refgeneid) < 2:\n",
    "            refgeneid = ['NA', 'NA']\n",
    "        tcons[line[0]] = [line[0], line[1], refgeneid[0], refgeneid[1], line[3],\n",
    "                          q1[0], q1[1], q1[2], q1[3], q1[4], q1[5], q1[6],\n",
    "                          q2[0], q2[1], q2[2], q2[3], q2[4], q2[5], q2[6],\n",
    "                          q3[0], q3[1], q3[2], q3[3], q3[4], q3[5], q3[6]]"
   ]
  },
  {
   "cell_type": "markdown",
   "id": "5db1561b-cf39-4ceb-aa7d-39103ca0e02c",
   "metadata": {},
   "source": [
    "Define column names for dataframe"
   ]
  },
  {
   "cell_type": "code",
   "execution_count": null,
   "id": "633dbcc0-e672-495d-893d-ebd5d46c5a7a",
   "metadata": {
    "tags": []
   },
   "outputs": [],
   "source": [
    "column_names = ['Query transfrag id', 'Query locus id', 'Reference gene name', 'Reference gene id', 'Class code',\n",
    "                'oxford.gene_id', 'oxford.transcript_id', 'oxford.num_exons', 'oxford.FPKM', 'oxford.counts',\n",
    "                'oxford.cov', 'oxford.len', 'flair.gene_id', 'flair.transcript_id', 'flair.num_exons',\n",
    "                'flair.FPKM', 'flair.counts', 'flair.cov', 'flair.len', 'talon.gene_id', 'talon.transcript_id',\n",
    "                'talon.num_exons', 'talon.FPKM', 'talon.counts', 'talon.cov', 'talon.len']"
   ]
  },
  {
   "cell_type": "markdown",
   "id": "8510c81c-1f58-4c80-8225-16c1873763f6",
   "metadata": {},
   "source": [
    "Convert dictionary to dataframe"
   ]
  },
  {
   "cell_type": "code",
   "execution_count": null,
   "id": "d062213c-d747-417c-9861-868a5c07089d",
   "metadata": {},
   "outputs": [],
   "source": [
    "df = pd.DataFrame.from_dict(tcons, orient='index', columns=column_names)"
   ]
  },
  {
   "cell_type": "markdown",
   "id": "d3d9aeff-736e-4c48-821f-9b279b0cf44b",
   "metadata": {},
   "source": [
    "Assign correct datatypes to dataframe columns"
   ]
  },
  {
   "cell_type": "code",
   "execution_count": null,
   "id": "581282fe-db0f-4102-a2e9-1dd8621bcd2e",
   "metadata": {
    "tags": []
   },
   "outputs": [],
   "source": [
    "df = df.astype({'Query transfrag id': str, 'Query locus id': str, 'Reference gene name': str, 'Reference gene id': str,\n",
    "                'Class code': str, 'oxford.gene_id': str, 'oxford.transcript_id': str, 'oxford.num_exons': int,\n",
    "                'oxford.FPKM': float, 'oxford.counts': float, 'oxford.cov': float,\n",
    "                'oxford.len': int, 'flair.gene_id': str, 'flair.transcript_id': str, 'flair.num_exons': int,\n",
    "                'flair.FPKM': float, 'flair.counts': float, 'flair.cov': float, 'flair.len': int,\n",
    "                'talon.gene_id': str, 'talon.transcript_id': str, 'talon.num_exons': int, 'talon.FPKM': float,\n",
    "                'talon.counts': float, 'talon.cov': float, 'talon.len': int})"
   ]
  },
  {
   "cell_type": "markdown",
   "id": "cbfa6fae-44ae-4f48-bd27-39f394561bb7",
   "metadata": {},
   "source": [
    "Take a look at the dataframe"
   ]
  },
  {
   "cell_type": "code",
   "execution_count": null,
   "id": "287b2273-3afc-4d54-9536-0cc847c1bc0a",
   "metadata": {
    "tags": []
   },
   "outputs": [],
   "source": [
    "df"
   ]
  },
  {
   "cell_type": "markdown",
   "id": "5540ee0e-d481-4ff1-8047-470e657d1ae5",
   "metadata": {},
   "source": [
    "### Venn diagrams"
   ]
  },
  {
   "cell_type": "markdown",
   "id": "840682f6-3903-43ca-a5b4-a277638ba63e",
   "metadata": {},
   "source": [
    "Set matplotlib settings"
   ]
  },
  {
   "cell_type": "code",
   "execution_count": null,
   "id": "0fdf031a-d5c0-4f2a-9553-bcc211a30048",
   "metadata": {},
   "outputs": [],
   "source": [
    "plt.rcParams[\"figure.figsize\"] = [10, 10]\n",
    "plt.rcParams[\"figure.autolayout\"] = False\n",
    "plt.rcParams.update({'font.size': 15})"
   ]
  },
  {
   "cell_type": "markdown",
   "id": "f18df7e7-b42c-4cbb-a2bc-7181b26babeb",
   "metadata": {},
   "source": [
    "Extract transfragments with a count higher then zero for each pipeline"
   ]
  },
  {
   "cell_type": "code",
   "execution_count": null,
   "id": "3882c2ca-1119-4478-bae0-dba5b8cb151e",
   "metadata": {
    "tags": []
   },
   "outputs": [],
   "source": [
    "ox_mask = (df['oxford.counts'] > 0)\n",
    "ox_array = df[ox_mask].values\n",
    "ox_values = ox_array.T[0]\n",
    "\n",
    "flair_mask = (df['flair.counts'] > 0)\n",
    "flair_array = df[flair_mask].values\n",
    "flair_values = flair_array.T[0]\n",
    "\n",
    "talon_mask = (df['talon.counts'] > 0)\n",
    "talon_array = df[talon_mask].values\n",
    "talon_values = talon_array.T[0]"
   ]
  },
  {
   "cell_type": "markdown",
   "id": "ebd656a2-33d4-45ef-99e6-67d6eb6daae2",
   "metadata": {},
   "source": [
    "Create a upset plot that shows overlap of transcripts that are  present in the samples"
   ]
  },
  {
   "cell_type": "code",
   "execution_count": null,
   "id": "9276a997-ddc6-4569-9762-a2c4715693ad",
   "metadata": {
    "tags": []
   },
   "outputs": [],
   "source": [
    "transcripts = from_contents({'oxford': set(ox_values), 'flair': set(flair_values), 'talon': set(talon_values)})\n",
    "upset_plot(transcripts, element_size=50)\n",
    "plt.suptitle('Overlap of transcripts present')\n",
    "plt.savefig(snakemake.output.all_upset, bbox_inches='tight', dpi=200)"
   ]
  },
  {
   "cell_type": "markdown",
   "id": "ff6eb26b-75c1-4820-b858-8c81bae18680",
   "metadata": {},
   "source": [
    "Create a venndiagram that shows overlap of transcripts that are  present in the samples"
   ]
  },
  {
   "cell_type": "code",
   "execution_count": null,
   "id": "77d1ac44-2de3-406a-a518-a514f2f29715",
   "metadata": {
    "tags": []
   },
   "outputs": [],
   "source": [
    "venn3([set(ox_values), set(flair_values), set(talon_values)], ('oxford', 'flair', 'talon'))\n",
    "plt.title('Overlap of transcripts present')\n",
    "plt.savefig(snakemake.output.all_diagram, bbox_inches='tight', dpi=200)"
   ]
  },
  {
   "cell_type": "markdown",
   "id": "cb280663-a876-4a9f-8aff-bd4df9fb4892",
   "metadata": {
    "tags": []
   },
   "source": [
    "Extract transfrag's with a count higher then zero and have a '=' class code."
   ]
  },
  {
   "cell_type": "code",
   "execution_count": null,
   "id": "08270b8e-44be-4193-a37c-e502877992ee",
   "metadata": {
    "tags": []
   },
   "outputs": [],
   "source": [
    "ox_mask_known = (df['oxford.counts'] > 0) & (df['Class code'] == '=')\n",
    "ox_array_known = df[ox_mask_known].values\n",
    "ox_values_known = ox_array_known.T[0]\n",
    "\n",
    "flair_mask_known = (df['flair.counts'] > 0) & (df['Class code'] == '=')\n",
    "flair_array_known = df[flair_mask_known].values\n",
    "flair_values_known = flair_array_known.T[0]\n",
    "\n",
    "talon_mask_known = (df['talon.counts'] > 0) & (df['Class code'] == '=')\n",
    "talon_array_known = df[talon_mask_known].values\n",
    "talon_values_known = talon_array_known.T[0]"
   ]
  },
  {
   "cell_type": "markdown",
   "id": "dbbbc918-687a-4c5a-aa35-7becb864b82c",
   "metadata": {},
   "source": [
    "Create a upset plot with present transcripts that have being classified as known by GFFcompare."
   ]
  },
  {
   "cell_type": "code",
   "execution_count": null,
   "id": "e2a37a91-7c96-431f-8ef4-41b8648b0224",
   "metadata": {
    "tags": []
   },
   "outputs": [],
   "source": [
    "transcripts = from_contents({'oxford': set(ox_values_known), 'flair': set(flair_values_known), 'talon': set(talon_values_known)})\n",
    "upset_plot(transcripts, element_size=50)\n",
    "plt.suptitle('Overlap of transcripts with classcode: \"=\"')\n",
    "plt.savefig(snakemake.output.known_upset, bbox_inches='tight', dpi=200)"
   ]
  },
  {
   "cell_type": "markdown",
   "id": "b347c04e-745a-4cb3-a80d-8ab40b327bf2",
   "metadata": {},
   "source": [
    "Create a venndiagram with present transcripts that have being classified as known by GFFcompare."
   ]
  },
  {
   "cell_type": "code",
   "execution_count": null,
   "id": "b564937d-e8cf-4c95-a1c4-5c2b52a177f1",
   "metadata": {
    "tags": []
   },
   "outputs": [],
   "source": [
    "venn3([set(ox_values_known), set(flair_values_known), set(talon_values_known)], ('oxford', 'flair', 'talon'))\n",
    "plt.title('Overlap of transcripts with classcode: \"=\"')\n",
    "plt.savefig(snakemake.output.known_diagram, bbox_inches='tight', dpi=200)"
   ]
  },
  {
   "cell_type": "markdown",
   "id": "5ecbefea-e2d8-4e4d-a417-2f3cfa311b36",
   "metadata": {},
   "source": [
    "Extract transfrag's with a count higher then zero and do not have a '=' class code."
   ]
  },
  {
   "cell_type": "code",
   "execution_count": null,
   "id": "cff1df8d-30c3-4a45-abed-17e1a0c54d13",
   "metadata": {
    "tags": []
   },
   "outputs": [],
   "source": [
    "ox_mask_novel = (df['oxford.counts'] > 1) & (df['Class code'] != '=')\n",
    "ox_array_novel = df[ox_mask_novel].values\n",
    "ox_values_novel = ox_array_novel.T[0]\n",
    "\n",
    "flair_mask_novel = (df['flair.counts'] > 1) & (df['Class code'] != '=')\n",
    "flair_array_novel = df[flair_mask_novel].values\n",
    "flair_values_novel = flair_array_novel.T[0]\n",
    "\n",
    "talon_mask_novel = (df['talon.counts'] > 1) & (df['Class code'] != '=')\n",
    "talon_array_novel = df[talon_mask_novel].values\n",
    "talon_values_novel = talon_array_novel.T[0]"
   ]
  },
  {
   "cell_type": "markdown",
   "id": "d4ccf72b-ceae-4ea5-b8bd-e6bcda696f2e",
   "metadata": {},
   "source": [
    "Create a venndiagram with present transcripts that have being classified as novel by GFFcompare"
   ]
  },
  {
   "cell_type": "code",
   "execution_count": null,
   "id": "7535e241-2147-4fde-8900-6d21d17c997d",
   "metadata": {
    "tags": []
   },
   "outputs": [],
   "source": [
    "transcripts = from_contents({'oxford': set(ox_values_novel), 'flair': set(flair_values_novel), 'talon': set(talon_values_novel)})\n",
    "upset_plot(transcripts, element_size=50)\n",
    "plt.suptitle('Overlap of transcripts that do NOT have classcode: \"=\"')\n",
    "plt.savefig(snakemake.output.novel_upset, bbox_inches='tight', dpi=200)"
   ]
  },
  {
   "cell_type": "markdown",
   "id": "7d4005d5-309a-4ea7-9028-4cef9be99d9d",
   "metadata": {},
   "source": [
    "Create a venndiagram with present transcripts that have being classified as novel by GFFcompare"
   ]
  },
  {
   "cell_type": "code",
   "execution_count": null,
   "id": "a94980dc-f3fa-4adb-a047-2592c272668f",
   "metadata": {
    "tags": []
   },
   "outputs": [],
   "source": [
    "venn3([set(ox_values_novel), set(flair_values_novel), set(talon_values_novel)], ('oxford', 'flair', 'talon'))\n",
    "plt.title('Overlap of transcripts that do NOT have classcode: \"=\"')\n",
    "plt.savefig(snakemake.output.novel_diagram, bbox_inches='tight', dpi=200)"
   ]
  },
  {
   "cell_type": "markdown",
   "id": "3085720a-0bf9-4569-96ee-b7085e19df47",
   "metadata": {},
   "source": [
    "# Non-matched transcripts analyses"
   ]
  },
  {
   "cell_type": "markdown",
   "id": "0fdc8959-e100-4f8d-9ac3-76dcd36b725b",
   "metadata": {},
   "source": [
    "Get all unique transcripts per pipeline"
   ]
  },
  {
   "cell_type": "code",
   "execution_count": null,
   "id": "32c4fcac-50dc-405e-ada4-ab547d23927e",
   "metadata": {
    "tags": []
   },
   "outputs": [],
   "source": [
    "oxford_filter_mask = (df['oxford.counts'] > 0) & (df['flair.counts'] == 0) & (df['talon.counts'] == 0)\n",
    "oxford_single = df[oxford_filter_mask]\n",
    "oxford_single_df = oxford_single[['Reference gene id','oxford.num_exons', 'oxford.len','oxford.counts']]\n",
    "\n",
    "flair_filter_mask = (df['oxford.counts'] == 0) & (df['flair.counts'] > 0) & (df['talon.counts'] == 0)\n",
    "flair_single = df[flair_filter_mask]\n",
    "flair_single_df = flair_single[['Reference gene id','flair.num_exons', 'flair.len','flair.counts']]\n",
    "\n",
    "talon_filter_mask = (df['oxford.counts'] == 0) & (df['flair.counts'] == 0) & (df['talon.counts'] > 0)\n",
    "talon_single = df[talon_filter_mask]\n",
    "talon_single_df = talon_single[['Reference gene id','talon.num_exons', 'talon.len','talon.counts']]"
   ]
  },
  {
   "cell_type": "markdown",
   "id": "f672f02d-6cd0-440c-bdbd-43a72aa9ee36",
   "metadata": {},
   "source": [
    "Get statistics per pipeline for the lenght of the unique transcripts"
   ]
  },
  {
   "cell_type": "code",
   "execution_count": null,
   "id": "e3363005-c4f5-4426-86ac-8b9d19c88495",
   "metadata": {},
   "outputs": [],
   "source": [
    "ox_len = oxford_single_df['oxford.len'].describe().to_frame('OXFORD')\n",
    "fl_len = flair_single_df['flair.len'].describe().to_frame('FLAIR')\n",
    "ta_len = talon_single_df['talon.len'].describe().to_frame('TALON')\n",
    "length_frames = [ox_len, fl_len, ta_len]\n",
    "\n",
    "merged_length = pd.concat(length_frames, axis='columns', verify_integrity=True)\n",
    "force_show_all(merged_length)"
   ]
  },
  {
   "cell_type": "markdown",
   "id": "2426cda0-5048-4e74-9597-6779ad4b7c85",
   "metadata": {},
   "source": [
    "Get statistics per pipeline for the count of the unique transcripts"
   ]
  },
  {
   "cell_type": "code",
   "execution_count": null,
   "id": "3a920e5d-7abc-4762-8337-7e41737c5ba0",
   "metadata": {},
   "outputs": [],
   "source": [
    "ox_count = oxford_single_df['oxford.counts'].describe().to_frame('OXFORD')\n",
    "fl_count = flair_single_df['flair.counts'].describe().to_frame('FLAIR')\n",
    "ta_count = talon_single_df['talon.counts'].describe().to_frame('TALON')\n",
    "count_frames = [ox_count, fl_count, ta_count]\n",
    "\n",
    "merged_counts = pd.concat(count_frames, axis='columns', verify_integrity=True)\n",
    "force_show_all(merged_counts)"
   ]
  },
  {
   "cell_type": "markdown",
   "id": "de7e0542-51b2-4866-ae52-9ecc0dce90b0",
   "metadata": {},
   "source": [
    "Show transcripts with number of exons"
   ]
  },
  {
   "cell_type": "code",
   "execution_count": null,
   "id": "715c1586-2244-4d4a-86da-84e6a7971f57",
   "metadata": {},
   "outputs": [],
   "source": [
    "ox_exons = oxford_single_df['oxford.num_exons'].value_counts()\n",
    "fl_exons = flair_single_df['flair.num_exons'].value_counts()\n",
    "ta_exons = talon_single_df['talon.num_exons'].value_counts()\n",
    "\n",
    "ox_exons = ox_exons.to_frame('OXFORD')\n",
    "fl_exons = fl_exons.to_frame('FLAIR')\n",
    "ta_exons = ta_exons.to_frame('TALON')\n",
    "exon_frames = [ox_exons, fl_exons, ta_exons]\n",
    "\n",
    "merged_exons = pd.concat(exon_frames, axis='columns', verify_integrity=True)\n",
    "merged_exons = merged_exons.sort_index(ascending=True)\n",
    "# force_show_all(merged_exons)\n",
    "merged_exons.plot(title=\"None-matched transcripts per number of exons\", xlabel=\"Exons in transcript\", ylabel=\"Number of transcripts (log)\", kind='bar', logy=True, figsize=(20,5))"
   ]
  },
  {
   "cell_type": "markdown",
   "id": "00a8f352-e04a-4c0c-a4d2-a3ef123ed9f7",
   "metadata": {},
   "source": [
    "# GffCompare classes"
   ]
  },
  {
   "cell_type": "markdown",
   "id": "1ab9bf49-bb5a-4c47-b86b-2f0978559812",
   "metadata": {},
   "source": [
    "Get the GFFcompare classes of ALL transcripts matched against the genome annotation."
   ]
  },
  {
   "cell_type": "code",
   "execution_count": null,
   "id": "3f12b026-7558-42b2-a3fb-db6f313eb1aa",
   "metadata": {},
   "outputs": [],
   "source": [
    "mask = (df['oxford.counts']>0)\n",
    "oxford = df[mask].groupby('Class code', dropna=False).size()\n",
    "ox_count = oxford.to_frame('Oxford')\n",
    "\n",
    "mask = (df['flair.counts']>0)\n",
    "flair = df[mask].groupby('Class code', dropna=False).size()\n",
    "flair_count = flair.to_frame('FLAIR')\n",
    "\n",
    "mask = (df['talon.counts']>0)\n",
    "talon = df[mask].groupby('Class code', dropna=False).size()\n",
    "talon_count = talon.to_frame('TALON')\n",
    "\n",
    "classes = talon_count.merge(flair_count, left_on='Class code', right_on='Class code', how='outer')\\\n",
    ".merge(ox_count, left_on='Class code', right_on='Class code', how='outer')\n",
    "\n",
    "classes"
   ]
  },
  {
   "cell_type": "markdown",
   "id": "7f8383b6-c464-4800-aa12-b11bb4c824ba",
   "metadata": {},
   "source": [
    "Get the GffCompare classes of UNIQUE transcripts matched against the genome annotation."
   ]
  },
  {
   "cell_type": "code",
   "execution_count": null,
   "id": "147613c6-a15c-458e-a44e-086a9158be9c",
   "metadata": {},
   "outputs": [],
   "source": [
    "mask = (df['oxford.counts']>0) & (df['flair.counts'] == 0) & (df['talon.counts'] == 0)\n",
    "oxford = df[mask].groupby('Class code', dropna=False).size()\n",
    "ox_count = oxford.to_frame('Oxford')\n",
    "\n",
    "mask = (df['flair.counts']>0) & (df['oxford.counts'] == 0) & (df['talon.counts'] == 0)\n",
    "flair = df[mask].groupby('Class code', dropna=False).size()\n",
    "flair_count = flair.to_frame('FLAIR')\n",
    "\n",
    "mask = (df['talon.counts']>0) & (df['flair.counts'] == 0) & (df['oxford.counts'] == 0)\n",
    "talon = df[mask].groupby('Class code', dropna=False).size()\n",
    "talon_count = talon.to_frame('TALON')\n",
    "\n",
    "classes = talon_count.merge(flair_count, left_on='Class code', right_on='Class code', how='outer')\\\n",
    ".merge(ox_count, left_on='Class code', right_on='Class code', how='outer')\n",
    "\n",
    "classes"
   ]
  },
  {
   "cell_type": "markdown",
   "id": "7dce5d85-e0d8-4364-bb25-5864ea5229e3",
   "metadata": {},
   "source": [
    "Get the GffCompare classes of three way matches"
   ]
  },
  {
   "cell_type": "code",
   "execution_count": null,
   "id": "67be1f9c-be50-43c3-ae62-b762e20496d7",
   "metadata": {},
   "outputs": [],
   "source": [
    "mask = (df['oxford.counts']>0) & (df['flair.counts']>0) & (df['talon.counts']>0)\n",
    "three = df[mask].groupby('Class code', dropna=False).size()\n",
    "three_count = three.to_frame('Three match')\n",
    "three_count"
   ]
  }
 ],
 "metadata": {
  "kernelspec": {
   "display_name": "Python 3 (ipykernel)",
   "language": "python",
   "name": "python3"
  },
  "language_info": {
   "codemirror_mode": {
    "name": "ipython",
    "version": 3
   },
   "file_extension": ".py",
   "mimetype": "text/x-python",
   "name": "python",
   "nbconvert_exporter": "python",
   "pygments_lexer": "ipython3",
   "version": "3.10.4"
  }
 },
 "nbformat": 4,
 "nbformat_minor": 5
}
