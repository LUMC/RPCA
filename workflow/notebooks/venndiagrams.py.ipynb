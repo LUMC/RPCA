{
 "cells": [
  {
   "cell_type": "markdown",
   "id": "04f47d94-d822-4a0c-8e0c-7a22311c2ea7",
   "metadata": {},
   "source": [
    "# GFFcompare analyses"
   ]
  },
  {
   "cell_type": "markdown",
   "id": "7a512864-f048-4e29-9053-6b7aa358ac1a",
   "metadata": {},
   "source": [
    "Import required modules"
   ]
  },
  {
   "cell_type": "code",
   "execution_count": 94,
   "id": "a766c31d-708f-4092-9a20-969f1ae6ae13",
   "metadata": {},
   "outputs": [],
   "source": [
    "import pandas as pd\n",
    "import matplotlib.pyplot as plt\n",
    "from matplotlib_venn import venn3\n",
    "from upsetplot import from_contents, UpSet, plot as upset_plot"
   ]
  },
  {
   "cell_type": "markdown",
   "id": "1e6be6c0-5ea2-491b-813c-3bb06caee61d",
   "metadata": {},
   "source": [
    "### Data preparation:"
   ]
  },
  {
   "cell_type": "markdown",
   "id": "21624773-fd21-44bd-b78f-1c85541b8b9c",
   "metadata": {},
   "source": [
    "Define dictionary"
   ]
  },
  {
   "cell_type": "code",
   "execution_count": 95,
   "id": "07b411b1-5e50-472e-95b9-d36e715b86d9",
   "metadata": {},
   "outputs": [],
   "source": [
    "tcons = {}"
   ]
  },
  {
   "cell_type": "markdown",
   "id": "4f3fcd7c-2152-4fc9-8da0-301043abe32a",
   "metadata": {},
   "source": [
    "Read gffcmp.tracking from the [GFFcompare](https://ccb.jhu.edu/software/stringtie/gffcompare.shtml) results, adjust lines for missing values and populate dictonary."
   ]
  },
  {
   "cell_type": "code",
   "execution_count": 96,
   "id": "b0ee3606-b393-4b28-b45c-c27e0b85b988",
   "metadata": {},
   "outputs": [],
   "source": [
    "with open(snakemake.input.tracking) as file:\n",
    "    for line in file:\n",
    "        line = line.split()\n",
    "        if ',' in line[4][3::]:\n",
    "            first = line[4][3::].split(',')\n",
    "            q1 = first[0].split('|')\n",
    "        else:\n",
    "            q1 = line[4][3::].split('|')\n",
    "        if ',' in line[5][3::]:\n",
    "            first = line[5][3::].split(',')\n",
    "            q2 = first[0].split('|')\n",
    "        else:\n",
    "            q2 = line[5][3::].split('|')\n",
    "        if ',' in line[6][3::]:\n",
    "            first = line[6][3::].split(',')\n",
    "            q3 = first[0].split('|')\n",
    "        else:\n",
    "            q3 = line[6][3::].split('|')\n",
    "        refgeneid = line[2].split('|')\n",
    "        if len(q1) < 2:\n",
    "            q1 = ['NA', 'NA', 0, 0, 0, 0, 0]\n",
    "        if len(q2) < 2:\n",
    "            q2 = ['NA', 'NA', 0, 0, 0, 0, 0]\n",
    "        if len(q3) < 2:\n",
    "            q3 = ['NA', 'NA', 0, 0, 0, 0, 0]\n",
    "        if len(refgeneid) < 2:\n",
    "            refgeneid = ['NA', 'NA']\n",
    "        tcons[line[0]] = [line[0], line[1], refgeneid[0], refgeneid[1], line[3],\n",
    "                          q1[0], q1[1], q1[2], q1[3], q1[4], q1[5], q1[6],\n",
    "                          q2[0], q2[1], q2[2], q2[3], q2[4], q2[5], q2[6],\n",
    "                          q3[0], q3[1], q3[2], q3[3], q3[4], q3[5], q3[6]]"
   ]
  },
  {
   "cell_type": "markdown",
   "id": "5db1561b-cf39-4ceb-aa7d-39103ca0e02c",
   "metadata": {},
   "source": [
    "Define column names for dataframe"
   ]
  },
  {
   "cell_type": "code",
   "execution_count": 97,
   "id": "633dbcc0-e672-495d-893d-ebd5d46c5a7a",
   "metadata": {
    "tags": []
   },
   "outputs": [],
   "source": [
    "column_names = ['Query transfrag id', 'Query locus id', 'Reference gene name', 'Reference gene id', 'Class code',\n",
    "                'oxford.gene_id', 'oxford.transcript_id', 'oxford.num_exons', 'oxford.FPKM', 'oxford.counts',\n",
    "                'oxford.cov', 'oxford.len', 'flair.gene_id', 'flair.transcript_id', 'flair.num_exons',\n",
    "                'flair.FPKM', 'flair.counts', 'flair.cov', 'flair.len', 'talon.gene_id', 'talon.transcript_id',\n",
    "                'talon.num_exons', 'talon.FPKM', 'talon.counts', 'talon.cov', 'talon.len']"
   ]
  },
  {
   "cell_type": "markdown",
   "id": "8510c81c-1f58-4c80-8225-16c1873763f6",
   "metadata": {},
   "source": [
    "Convert dictionary to dataframe"
   ]
  },
  {
   "cell_type": "code",
   "execution_count": 98,
   "id": "d062213c-d747-417c-9861-868a5c07089d",
   "metadata": {},
   "outputs": [],
   "source": [
    "df = pd.DataFrame.from_dict(tcons, orient='index', columns=column_names)"
   ]
  },
  {
   "cell_type": "markdown",
   "id": "d3d9aeff-736e-4c48-821f-9b279b0cf44b",
   "metadata": {},
   "source": [
    "Assign correct datatypes to dataframe columns"
   ]
  },
  {
   "cell_type": "code",
   "execution_count": 99,
   "id": "581282fe-db0f-4102-a2e9-1dd8621bcd2e",
   "metadata": {
    "tags": []
   },
   "outputs": [],
   "source": [
    "df = df.astype({'Query transfrag id': str, 'Query locus id': str, 'Reference gene name': str, 'Reference gene id': str,\n",
    "                'Class code': str, 'oxford.gene_id': str, 'oxford.transcript_id': str, 'oxford.num_exons': int,\n",
    "                'oxford.FPKM': float, 'oxford.counts': float, 'oxford.cov': float,\n",
    "                'oxford.len': int, 'flair.gene_id': str, 'flair.transcript_id': str, 'flair.num_exons': int,\n",
    "                'flair.FPKM': float, 'flair.counts': float, 'flair.cov': float, 'flair.len': int,\n",
    "                'talon.gene_id': str, 'talon.transcript_id': str, 'talon.num_exons': int, 'talon.FPKM': float,\n",
    "                'talon.counts': float, 'talon.cov': float, 'talon.len': int})"
   ]
  },
  {
   "cell_type": "markdown",
   "id": "cbfa6fae-44ae-4f48-bd27-39f394561bb7",
   "metadata": {},
   "source": [
    "Take a look at the dataframe"
   ]
  },
  {
   "cell_type": "code",
   "execution_count": 100,
   "id": "287b2273-3afc-4d54-9536-0cc847c1bc0a",
   "metadata": {
    "tags": []
   },
   "outputs": [
    {
     "data": {
      "text/html": [
       "<div>\n",
       "<style scoped>\n",
       "    .dataframe tbody tr th:only-of-type {\n",
       "        vertical-align: middle;\n",
       "    }\n",
       "\n",
       "    .dataframe tbody tr th {\n",
       "        vertical-align: top;\n",
       "    }\n",
       "\n",
       "    .dataframe thead th {\n",
       "        text-align: right;\n",
       "    }\n",
       "</style>\n",
       "<table border=\"1\" class=\"dataframe\">\n",
       "  <thead>\n",
       "    <tr style=\"text-align: right;\">\n",
       "      <th></th>\n",
       "      <th>Query transfrag id</th>\n",
       "      <th>Query locus id</th>\n",
       "      <th>Reference gene name</th>\n",
       "      <th>Reference gene id</th>\n",
       "      <th>Class code</th>\n",
       "      <th>oxford.gene_id</th>\n",
       "      <th>oxford.transcript_id</th>\n",
       "      <th>oxford.num_exons</th>\n",
       "      <th>oxford.FPKM</th>\n",
       "      <th>oxford.counts</th>\n",
       "      <th>...</th>\n",
       "      <th>flair.counts</th>\n",
       "      <th>flair.cov</th>\n",
       "      <th>flair.len</th>\n",
       "      <th>talon.gene_id</th>\n",
       "      <th>talon.transcript_id</th>\n",
       "      <th>talon.num_exons</th>\n",
       "      <th>talon.FPKM</th>\n",
       "      <th>talon.counts</th>\n",
       "      <th>talon.cov</th>\n",
       "      <th>talon.len</th>\n",
       "    </tr>\n",
       "  </thead>\n",
       "  <tbody>\n",
       "    <tr>\n",
       "      <th>TCONS_00000001</th>\n",
       "      <td>TCONS_00000001</td>\n",
       "      <td>XLOC_000001</td>\n",
       "      <td>ITR_01</td>\n",
       "      <td>LUMCT_misc_feature_ITR_01</td>\n",
       "      <td>k</td>\n",
       "      <td>ITR_01</td>\n",
       "      <td>LUMCT_misc_feature_ITR_01</td>\n",
       "      <td>1</td>\n",
       "      <td>0.0</td>\n",
       "      <td>9.0</td>\n",
       "      <td>...</td>\n",
       "      <td>0.0</td>\n",
       "      <td>0.0</td>\n",
       "      <td>0</td>\n",
       "      <td>NA</td>\n",
       "      <td>NA</td>\n",
       "      <td>0</td>\n",
       "      <td>0.0</td>\n",
       "      <td>0.0</td>\n",
       "      <td>0.0</td>\n",
       "      <td>0</td>\n",
       "    </tr>\n",
       "    <tr>\n",
       "      <th>TCONS_00000002</th>\n",
       "      <td>TCONS_00000002</td>\n",
       "      <td>XLOC_000001</td>\n",
       "      <td>E1A</td>\n",
       "      <td>LUMCT_CDS_E1A</td>\n",
       "      <td>j</td>\n",
       "      <td>MSTRG.2</td>\n",
       "      <td>MSTRG.2.6</td>\n",
       "      <td>2</td>\n",
       "      <td>0.0</td>\n",
       "      <td>0.0</td>\n",
       "      <td>...</td>\n",
       "      <td>0.0</td>\n",
       "      <td>0.0</td>\n",
       "      <td>0</td>\n",
       "      <td>NA</td>\n",
       "      <td>NA</td>\n",
       "      <td>0</td>\n",
       "      <td>0.0</td>\n",
       "      <td>0.0</td>\n",
       "      <td>0.0</td>\n",
       "      <td>0</td>\n",
       "    </tr>\n",
       "    <tr>\n",
       "      <th>TCONS_00000003</th>\n",
       "      <td>TCONS_00000003</td>\n",
       "      <td>XLOC_000001</td>\n",
       "      <td>hexon</td>\n",
       "      <td>LUMCT_CDS_hexon</td>\n",
       "      <td>k</td>\n",
       "      <td>MSTRG.2</td>\n",
       "      <td>MSTRG.2.1</td>\n",
       "      <td>7</td>\n",
       "      <td>0.0</td>\n",
       "      <td>0.0</td>\n",
       "      <td>...</td>\n",
       "      <td>0.0</td>\n",
       "      <td>0.0</td>\n",
       "      <td>0</td>\n",
       "      <td>NA</td>\n",
       "      <td>NA</td>\n",
       "      <td>0</td>\n",
       "      <td>0.0</td>\n",
       "      <td>0.0</td>\n",
       "      <td>0.0</td>\n",
       "      <td>0</td>\n",
       "    </tr>\n",
       "    <tr>\n",
       "      <th>TCONS_00000004</th>\n",
       "      <td>TCONS_00000004</td>\n",
       "      <td>XLOC_000001</td>\n",
       "      <td>E1B_55K</td>\n",
       "      <td>LUMCT_CDS_E1B_55K</td>\n",
       "      <td>k</td>\n",
       "      <td>MSTRG.2</td>\n",
       "      <td>MSTRG.2.3</td>\n",
       "      <td>8</td>\n",
       "      <td>0.0</td>\n",
       "      <td>0.0</td>\n",
       "      <td>...</td>\n",
       "      <td>0.0</td>\n",
       "      <td>0.0</td>\n",
       "      <td>0</td>\n",
       "      <td>NA</td>\n",
       "      <td>NA</td>\n",
       "      <td>0</td>\n",
       "      <td>0.0</td>\n",
       "      <td>0.0</td>\n",
       "      <td>0.0</td>\n",
       "      <td>0</td>\n",
       "    </tr>\n",
       "    <tr>\n",
       "      <th>TCONS_00000005</th>\n",
       "      <td>TCONS_00000005</td>\n",
       "      <td>XLOC_000001</td>\n",
       "      <td>pVIII</td>\n",
       "      <td>LUMCT_CDS_pVIII</td>\n",
       "      <td>k</td>\n",
       "      <td>MSTRG.2</td>\n",
       "      <td>MSTRG.2.4</td>\n",
       "      <td>7</td>\n",
       "      <td>0.0</td>\n",
       "      <td>0.0</td>\n",
       "      <td>...</td>\n",
       "      <td>0.0</td>\n",
       "      <td>0.0</td>\n",
       "      <td>0</td>\n",
       "      <td>NA</td>\n",
       "      <td>NA</td>\n",
       "      <td>0</td>\n",
       "      <td>0.0</td>\n",
       "      <td>0.0</td>\n",
       "      <td>0.0</td>\n",
       "      <td>0</td>\n",
       "    </tr>\n",
       "    <tr>\n",
       "      <th>...</th>\n",
       "      <td>...</td>\n",
       "      <td>...</td>\n",
       "      <td>...</td>\n",
       "      <td>...</td>\n",
       "      <td>...</td>\n",
       "      <td>...</td>\n",
       "      <td>...</td>\n",
       "      <td>...</td>\n",
       "      <td>...</td>\n",
       "      <td>...</td>\n",
       "      <td>...</td>\n",
       "      <td>...</td>\n",
       "      <td>...</td>\n",
       "      <td>...</td>\n",
       "      <td>...</td>\n",
       "      <td>...</td>\n",
       "      <td>...</td>\n",
       "      <td>...</td>\n",
       "      <td>...</td>\n",
       "      <td>...</td>\n",
       "      <td>...</td>\n",
       "    </tr>\n",
       "    <tr>\n",
       "      <th>TCONS_00038024</th>\n",
       "      <td>TCONS_00038024</td>\n",
       "      <td>XLOC_000002</td>\n",
       "      <td>E4_ORF6</td>\n",
       "      <td>LUMCT_CDS_E4_ORF6</td>\n",
       "      <td>k</td>\n",
       "      <td>NA</td>\n",
       "      <td>NA</td>\n",
       "      <td>0</td>\n",
       "      <td>0.0</td>\n",
       "      <td>0.0</td>\n",
       "      <td>...</td>\n",
       "      <td>0.0</td>\n",
       "      <td>0.0</td>\n",
       "      <td>0</td>\n",
       "      <td>E4_ORF6/7</td>\n",
       "      <td>TALONT000038625</td>\n",
       "      <td>2</td>\n",
       "      <td>0.0</td>\n",
       "      <td>1.0</td>\n",
       "      <td>0.0</td>\n",
       "      <td>1394</td>\n",
       "    </tr>\n",
       "    <tr>\n",
       "      <th>TCONS_00038025</th>\n",
       "      <td>TCONS_00038025</td>\n",
       "      <td>XLOC_000002</td>\n",
       "      <td>E4_ORF4</td>\n",
       "      <td>LUMCT_CDS_E4_ORF4</td>\n",
       "      <td>k</td>\n",
       "      <td>NA</td>\n",
       "      <td>NA</td>\n",
       "      <td>0</td>\n",
       "      <td>0.0</td>\n",
       "      <td>0.0</td>\n",
       "      <td>...</td>\n",
       "      <td>0.0</td>\n",
       "      <td>0.0</td>\n",
       "      <td>0</td>\n",
       "      <td>E4_ORF6/7</td>\n",
       "      <td>TALONT000038626</td>\n",
       "      <td>3</td>\n",
       "      <td>0.0</td>\n",
       "      <td>1.0</td>\n",
       "      <td>0.0</td>\n",
       "      <td>1696</td>\n",
       "    </tr>\n",
       "    <tr>\n",
       "      <th>TCONS_00038026</th>\n",
       "      <td>TCONS_00038026</td>\n",
       "      <td>XLOC_000002</td>\n",
       "      <td>E4_ORF6/7</td>\n",
       "      <td>LUMCT_CDS_E4_ORF6/7</td>\n",
       "      <td>k</td>\n",
       "      <td>NA</td>\n",
       "      <td>NA</td>\n",
       "      <td>0</td>\n",
       "      <td>0.0</td>\n",
       "      <td>0.0</td>\n",
       "      <td>...</td>\n",
       "      <td>0.0</td>\n",
       "      <td>0.0</td>\n",
       "      <td>0</td>\n",
       "      <td>E4_ORF6/7</td>\n",
       "      <td>TALONT000038627</td>\n",
       "      <td>3</td>\n",
       "      <td>0.0</td>\n",
       "      <td>1.0</td>\n",
       "      <td>0.0</td>\n",
       "      <td>672</td>\n",
       "    </tr>\n",
       "    <tr>\n",
       "      <th>TCONS_00038027</th>\n",
       "      <td>TCONS_00038027</td>\n",
       "      <td>XLOC_000002</td>\n",
       "      <td>E4_ORF6/7</td>\n",
       "      <td>LUMCT_CDS_E4_ORF6/7</td>\n",
       "      <td>o</td>\n",
       "      <td>NA</td>\n",
       "      <td>NA</td>\n",
       "      <td>0</td>\n",
       "      <td>0.0</td>\n",
       "      <td>0.0</td>\n",
       "      <td>...</td>\n",
       "      <td>0.0</td>\n",
       "      <td>0.0</td>\n",
       "      <td>0</td>\n",
       "      <td>E4_ORF6/7</td>\n",
       "      <td>TALONT000038628</td>\n",
       "      <td>2</td>\n",
       "      <td>0.0</td>\n",
       "      <td>1.0</td>\n",
       "      <td>0.0</td>\n",
       "      <td>233</td>\n",
       "    </tr>\n",
       "    <tr>\n",
       "      <th>TCONS_00038028</th>\n",
       "      <td>TCONS_00038028</td>\n",
       "      <td>XLOC_000002</td>\n",
       "      <td>E4_ORF4</td>\n",
       "      <td>LUMCT_CDS_E4_ORF4</td>\n",
       "      <td>k</td>\n",
       "      <td>NA</td>\n",
       "      <td>NA</td>\n",
       "      <td>0</td>\n",
       "      <td>0.0</td>\n",
       "      <td>0.0</td>\n",
       "      <td>...</td>\n",
       "      <td>0.0</td>\n",
       "      <td>0.0</td>\n",
       "      <td>0</td>\n",
       "      <td>E4_ORF6/7</td>\n",
       "      <td>TALONT000038461</td>\n",
       "      <td>3</td>\n",
       "      <td>0.0</td>\n",
       "      <td>1.0</td>\n",
       "      <td>0.0</td>\n",
       "      <td>1419</td>\n",
       "    </tr>\n",
       "  </tbody>\n",
       "</table>\n",
       "<p>38028 rows × 26 columns</p>\n",
       "</div>"
      ],
      "text/plain": [
       "               Query transfrag id Query locus id Reference gene name  \\\n",
       "TCONS_00000001     TCONS_00000001    XLOC_000001              ITR_01   \n",
       "TCONS_00000002     TCONS_00000002    XLOC_000001                 E1A   \n",
       "TCONS_00000003     TCONS_00000003    XLOC_000001               hexon   \n",
       "TCONS_00000004     TCONS_00000004    XLOC_000001             E1B_55K   \n",
       "TCONS_00000005     TCONS_00000005    XLOC_000001               pVIII   \n",
       "...                           ...            ...                 ...   \n",
       "TCONS_00038024     TCONS_00038024    XLOC_000002             E4_ORF6   \n",
       "TCONS_00038025     TCONS_00038025    XLOC_000002             E4_ORF4   \n",
       "TCONS_00038026     TCONS_00038026    XLOC_000002           E4_ORF6/7   \n",
       "TCONS_00038027     TCONS_00038027    XLOC_000002           E4_ORF6/7   \n",
       "TCONS_00038028     TCONS_00038028    XLOC_000002             E4_ORF4   \n",
       "\n",
       "                        Reference gene id Class code oxford.gene_id  \\\n",
       "TCONS_00000001  LUMCT_misc_feature_ITR_01          k         ITR_01   \n",
       "TCONS_00000002              LUMCT_CDS_E1A          j        MSTRG.2   \n",
       "TCONS_00000003            LUMCT_CDS_hexon          k        MSTRG.2   \n",
       "TCONS_00000004          LUMCT_CDS_E1B_55K          k        MSTRG.2   \n",
       "TCONS_00000005            LUMCT_CDS_pVIII          k        MSTRG.2   \n",
       "...                                   ...        ...            ...   \n",
       "TCONS_00038024          LUMCT_CDS_E4_ORF6          k             NA   \n",
       "TCONS_00038025          LUMCT_CDS_E4_ORF4          k             NA   \n",
       "TCONS_00038026        LUMCT_CDS_E4_ORF6/7          k             NA   \n",
       "TCONS_00038027        LUMCT_CDS_E4_ORF6/7          o             NA   \n",
       "TCONS_00038028          LUMCT_CDS_E4_ORF4          k             NA   \n",
       "\n",
       "                     oxford.transcript_id  oxford.num_exons  oxford.FPKM  \\\n",
       "TCONS_00000001  LUMCT_misc_feature_ITR_01                 1          0.0   \n",
       "TCONS_00000002                  MSTRG.2.6                 2          0.0   \n",
       "TCONS_00000003                  MSTRG.2.1                 7          0.0   \n",
       "TCONS_00000004                  MSTRG.2.3                 8          0.0   \n",
       "TCONS_00000005                  MSTRG.2.4                 7          0.0   \n",
       "...                                   ...               ...          ...   \n",
       "TCONS_00038024                         NA                 0          0.0   \n",
       "TCONS_00038025                         NA                 0          0.0   \n",
       "TCONS_00038026                         NA                 0          0.0   \n",
       "TCONS_00038027                         NA                 0          0.0   \n",
       "TCONS_00038028                         NA                 0          0.0   \n",
       "\n",
       "                oxford.counts  ...  flair.counts  flair.cov flair.len  \\\n",
       "TCONS_00000001            9.0  ...           0.0        0.0         0   \n",
       "TCONS_00000002            0.0  ...           0.0        0.0         0   \n",
       "TCONS_00000003            0.0  ...           0.0        0.0         0   \n",
       "TCONS_00000004            0.0  ...           0.0        0.0         0   \n",
       "TCONS_00000005            0.0  ...           0.0        0.0         0   \n",
       "...                       ...  ...           ...        ...       ...   \n",
       "TCONS_00038024            0.0  ...           0.0        0.0         0   \n",
       "TCONS_00038025            0.0  ...           0.0        0.0         0   \n",
       "TCONS_00038026            0.0  ...           0.0        0.0         0   \n",
       "TCONS_00038027            0.0  ...           0.0        0.0         0   \n",
       "TCONS_00038028            0.0  ...           0.0        0.0         0   \n",
       "\n",
       "               talon.gene_id  talon.transcript_id  talon.num_exons  \\\n",
       "TCONS_00000001            NA                   NA                0   \n",
       "TCONS_00000002            NA                   NA                0   \n",
       "TCONS_00000003            NA                   NA                0   \n",
       "TCONS_00000004            NA                   NA                0   \n",
       "TCONS_00000005            NA                   NA                0   \n",
       "...                      ...                  ...              ...   \n",
       "TCONS_00038024     E4_ORF6/7      TALONT000038625                2   \n",
       "TCONS_00038025     E4_ORF6/7      TALONT000038626                3   \n",
       "TCONS_00038026     E4_ORF6/7      TALONT000038627                3   \n",
       "TCONS_00038027     E4_ORF6/7      TALONT000038628                2   \n",
       "TCONS_00038028     E4_ORF6/7      TALONT000038461                3   \n",
       "\n",
       "                talon.FPKM  talon.counts  talon.cov talon.len  \n",
       "TCONS_00000001         0.0           0.0        0.0         0  \n",
       "TCONS_00000002         0.0           0.0        0.0         0  \n",
       "TCONS_00000003         0.0           0.0        0.0         0  \n",
       "TCONS_00000004         0.0           0.0        0.0         0  \n",
       "TCONS_00000005         0.0           0.0        0.0         0  \n",
       "...                    ...           ...        ...       ...  \n",
       "TCONS_00038024         0.0           1.0        0.0      1394  \n",
       "TCONS_00038025         0.0           1.0        0.0      1696  \n",
       "TCONS_00038026         0.0           1.0        0.0       672  \n",
       "TCONS_00038027         0.0           1.0        0.0       233  \n",
       "TCONS_00038028         0.0           1.0        0.0      1419  \n",
       "\n",
       "[38028 rows x 26 columns]"
      ]
     },
     "execution_count": 100,
     "metadata": {},
     "output_type": "execute_result"
    }
   ],
   "source": [
    "df"
   ]
  },
  {
   "cell_type": "markdown",
   "id": "5540ee0e-d481-4ff1-8047-470e657d1ae5",
   "metadata": {},
   "source": [
    "### Venn diagrams"
   ]
  },
  {
   "cell_type": "markdown",
   "id": "840682f6-3903-43ca-a5b4-a277638ba63e",
   "metadata": {},
   "source": [
    "Set matplotlib settings"
   ]
  },
  {
   "cell_type": "code",
   "execution_count": 101,
   "id": "0fdf031a-d5c0-4f2a-9553-bcc211a30048",
   "metadata": {},
   "outputs": [],
   "source": [
    "plt.rcParams[\"figure.figsize\"] = [10, 10]\n",
    "plt.rcParams[\"figure.autolayout\"] = False\n",
    "plt.rcParams.update({'font.size': 15})"
   ]
  },
  {
   "cell_type": "markdown",
   "id": "f18df7e7-b42c-4cbb-a2bc-7181b26babeb",
   "metadata": {},
   "source": [
    "Extract transfragments with a count higher then zero for each pipeline"
   ]
  },
  {
   "cell_type": "code",
   "execution_count": 102,
   "id": "3882c2ca-1119-4478-bae0-dba5b8cb151e",
   "metadata": {},
   "outputs": [],
   "source": [
    "ox_mask = (df['oxford.counts'] > 0)\n",
    "ox_array = df[ox_mask].values\n",
    "ox_values = ox_array.T[0]\n",
    "\n",
    "flair_mask = (df['flair.counts'] > 0)\n",
    "flair_array = df[flair_mask].values\n",
    "flair_values = flair_array.T[0]\n",
    "\n",
    "talon_mask = (df['talon.counts'] > 0)\n",
    "talon_array = df[talon_mask].values\n",
    "talon_values = talon_array.T[0]"
   ]
  },
  {
   "cell_type": "markdown",
   "id": "ebd656a2-33d4-45ef-99e6-67d6eb6daae2",
   "metadata": {},
   "source": [
    "Create a upset plot that shows overlap of transcripts that are  present in the samples"
   ]
  },
  {
   "cell_type": "code",
   "execution_count": 111,
   "id": "9276a997-ddc6-4569-9762-a2c4715693ad",
   "metadata": {},
   "outputs": [
    {
     "data": {
      "image/png": "[encoded data removed]",
      "text/plain": [
       "<Figure size 600x450 with 4 Axes>"
      ]
     },
     "metadata": {
      "needs_background": "light"
     },
     "output_type": "display_data"
    }
   ],
   "source": [
    "transcripts = from_contents({'oxford': set(ox_values), 'flair': set(flair_values), 'talon': set(talon_values)})\n",
    "upset_plot(transcripts, element_size=50)\n",
    "plt.suptitle('Overlap of transcripts present')\n",
    "plt.savefig(snakemake.output.all_upset, dpi=200)"
   ]
  },
  {
   "cell_type": "markdown",
   "id": "ff6eb26b-75c1-4820-b858-8c81bae18680",
   "metadata": {},
   "source": [
    "Create a venndiagram that shows overlap of transcripts that are  present in the samples"
   ]
  },
  {
   "cell_type": "code",
   "execution_count": 104,
   "id": "77d1ac44-2de3-406a-a518-a514f2f29715",
   "metadata": {},
   "outputs": [
    {
     "data": {
      "text/plain": [
       "Text(0.5, 1.0, 'Overlap of transcripts present')"
      ]
     },
     "execution_count": 104,
     "metadata": {},
     "output_type": "execute_result"
    },
    {
     "data": {
      "image/png": "[encoded data removed]",
      "text/plain": [
       "<Figure size 720x720 with 1 Axes>"
      ]
     },
     "metadata": {},
     "output_type": "display_data"
    }
   ],
   "source": [
    "venn3([set(ox_values), set(flair_values), set(talon_values)], ('oxford', 'flair', 'talon'))\n",
    "plt.title('Overlap of transcripts present')\n",
    "plt.savefig(snakemake.output.all_diagram, dpi=200)"
   ]
  },
  {
   "cell_type": "markdown",
   "id": "cb280663-a876-4a9f-8aff-bd4df9fb4892",
   "metadata": {},
   "source": [
    "Extract transfrag's with a count higher then zero and have a '=' class code."
   ]
  },
  {
   "cell_type": "code",
   "execution_count": 105,
   "id": "08270b8e-44be-4193-a37c-e502877992ee",
   "metadata": {},
   "outputs": [],
   "source": [
    "ox_mask_known = (df['oxford.counts'] > 0) & (df['Class code'] == '=')\n",
    "ox_array_known = df[ox_mask_known].values\n",
    "ox_values_known = ox_array_known.T[0]\n",
    "\n",
    "flair_mask_known = (df['flair.counts'] > 0) & (df['Class code'] == '=')\n",
    "flair_array_known = df[flair_mask_known].values\n",
    "flair_values_known = flair_array_known.T[0]\n",
    "\n",
    "talon_mask_known = (df['talon.counts'] > 0) & (df['Class code'] == '=')\n",
    "talon_array_known = df[talon_mask_known].values\n",
    "talon_values_known = talon_array_known.T[0]"
   ]
  },
  {
   "cell_type": "markdown",
   "id": "dbbbc918-687a-4c5a-aa35-7becb864b82c",
   "metadata": {},
   "source": [
    "Create a upset plot with present transcripts that have being classified as known by GFFcompare."
   ]
  },
  {
   "cell_type": "code",
   "execution_count": 106,
   "id": "e2a37a91-7c96-431f-8ef4-41b8648b0224",
   "metadata": {},
   "outputs": [
    {
     "data": {
      "text/plain": [
       "Text(0.5, 0.98, 'Overlap of transcripts with classcode: \"=\"')"
      ]
     },
     "execution_count": 106,
     "metadata": {},
     "output_type": "execute_result"
    },
    {
     "data": {
      "image/png": "[encoded data removed]",
      "text/plain": [
       "<Figure size 550x450 with 4 Axes>"
      ]
     },
     "metadata": {
      "needs_background": "light"
     },
     "output_type": "display_data"
    }
   ],
   "source": [
    "transcripts = from_contents({'oxford': set(ox_values_known), 'flair': set(flair_values_known), 'talon': set(talon_values_known)})\n",
    "upset_plot(transcripts, element_size=50)\n",
    "plt.suptitle('Overlap of transcripts with classcode: \"=\"')\n",
    "plt.savefig(snakemake.output.known_upset, dpi=200)"
   ]
  },
  {
   "cell_type": "markdown",
   "id": "b347c04e-745a-4cb3-a80d-8ab40b327bf2",
   "metadata": {},
   "source": [
    "Create a venndiagram with present transcripts that have being classified as known by GFFcompare."
   ]
  },
  {
   "cell_type": "code",
   "execution_count": 107,
   "id": "b564937d-e8cf-4c95-a1c4-5c2b52a177f1",
   "metadata": {},
   "outputs": [
    {
     "data": {
      "text/plain": [
       "Text(0.5, 1.0, 'Overlap of transcripts with classcode: \"=\"')"
      ]
     },
     "execution_count": 107,
     "metadata": {},
     "output_type": "execute_result"
    },
    {
     "data": {
      "image/png": "[encoded data removed]",
      "text/plain": [
       "<Figure size 720x720 with 1 Axes>"
      ]
     },
     "metadata": {},
     "output_type": "display_data"
    }
   ],
   "source": [
    "venn3([set(ox_values_known), set(flair_values_known), set(talon_values_known)], ('oxford', 'flair', 'talon'))\n",
    "plt.title('Overlap of transcripts with classcode: \"=\"')\n",
    "plt.savefig(snakemake.output.known_diagram, dpi=200)"
   ]
  },
  {
   "cell_type": "markdown",
   "id": "5ecbefea-e2d8-4e4d-a417-2f3cfa311b36",
   "metadata": {},
   "source": [
    "Extract transfrag's with a count higher then zero and do not have a '=' class code."
   ]
  },
  {
   "cell_type": "code",
   "execution_count": 108,
   "id": "cff1df8d-30c3-4a45-abed-17e1a0c54d13",
   "metadata": {},
   "outputs": [],
   "source": [
    "ox_mask_novel = (df['oxford.counts'] > 1) & (df['Class code'] != '=')\n",
    "ox_array_novel = df[ox_mask_novel].values\n",
    "ox_values_novel = ox_array_novel.T[0]\n",
    "\n",
    "flair_mask_novel = (df['flair.counts'] > 1) & (df['Class code'] != '=')\n",
    "flair_array_novel = df[flair_mask_novel].values\n",
    "flair_values_novel = flair_array_novel.T[0]\n",
    "\n",
    "talon_mask_novel = (df['talon.counts'] > 1) & (df['Class code'] != '=')\n",
    "talon_array_novel = df[talon_mask_novel].values\n",
    "talon_values_novel = talon_array_novel.T[0]"
   ]
  },
  {
   "cell_type": "markdown",
   "id": "d4ccf72b-ceae-4ea5-b8bd-e6bcda696f2e",
   "metadata": {},
   "source": [
    "Create a venndiagram with present transcripts that have being classified as novel by GFFcompare"
   ]
  },
  {
   "cell_type": "code",
   "execution_count": 109,
   "id": "7535e241-2147-4fde-8900-6d21d17c997d",
   "metadata": {},
   "outputs": [
    {
     "data": {
      "text/plain": [
       "Text(0.5, 0.98, 'Overlap of transcripts that do NOT have classcode: \"=\"')"
      ]
     },
     "execution_count": 109,
     "metadata": {},
     "output_type": "execute_result"
    },
    {
     "data": {
      "image/png": "[encoded data removed]",
      "text/plain": [
       "<Figure size 500x450 with 4 Axes>"
      ]
     },
     "metadata": {
      "needs_background": "light"
     },
     "output_type": "display_data"
    }
   ],
   "source": [
    "transcripts = from_contents({'oxford': set(ox_values_novel), 'flair': set(flair_values_novel), 'talon': set(talon_values_novel)})\n",
    "upset_plot(transcripts, element_size=50)\n",
    "plt.suptitle('Overlap of transcripts that do NOT have classcode: \"=\"')\n",
    "plt.savefig(snakemake.output.novel_upset, dpi=200)"
   ]
  },
  {
   "cell_type": "markdown",
   "id": "7d4005d5-309a-4ea7-9028-4cef9be99d9d",
   "metadata": {},
   "source": [
    "Create a venndiagram with present transcripts that have being classified as novel by GFFcompare"
   ]
  },
  {
   "cell_type": "code",
   "execution_count": 110,
   "id": "a94980dc-f3fa-4adb-a047-2592c272668f",
   "metadata": {},
   "outputs": [
    {
     "data": {
      "text/plain": [
       "Text(0.5, 1.0, 'Overlap of transcripts that do NOT have classcode: \"=\"')"
      ]
     },
     "execution_count": 110,
     "metadata": {},
     "output_type": "execute_result"
    },
    {
     "data": {
      "image/png": "[encoded data removed]",
      "text/plain": [
       "<Figure size 720x720 with 1 Axes>"
      ]
     },
     "metadata": {},
     "output_type": "display_data"
    }
   ],
   "source": [
    "venn3([set(ox_values_novel), set(flair_values_novel), set(talon_values_novel)], ('oxford', 'flair', 'talon'))\n",
    "plt.title('Overlap of transcripts that do NOT have classcode: \"=\"')\n",
    "plt.savefig(snakemake.output.novel_diagram, dpi=200)"
   ]
  }
 ],
 "metadata": {
  "kernelspec": {
   "display_name": "Python 3 (ipykernel)",
   "language": "python",
   "name": "python3"
  },
  "language_info": {
   "codemirror_mode": {
    "name": "ipython",
    "version": 3
   },
   "file_extension": ".py",
   "mimetype": "text/x-python",
   "name": "python",
   "nbconvert_exporter": "python",
   "pygments_lexer": "ipython3",
   "version": "3.8.5"
  }
 },
 "nbformat": 4,
 "nbformat_minor": 5
}
