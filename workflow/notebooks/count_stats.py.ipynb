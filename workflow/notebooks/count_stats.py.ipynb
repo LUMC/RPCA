{
 "cells": [
  {
   "cell_type": "markdown",
   "id": "5cfe72ee-8c68-48f4-bdbb-e059768b994c",
   "metadata": {},
   "source": [
    "# Transcript abundance statistics"
   ]
  },
  {
   "cell_type": "markdown",
   "id": "fdbe97f2-0434-4ffa-a3ba-b0153ec0033d",
   "metadata": {},
   "source": [
    "Import required modules"
   ]
  },
  {
   "cell_type": "code",
   "execution_count": null,
   "id": "5a542f24-bb52-433b-9b2b-9668e053fcfd",
   "metadata": {},
   "outputs": [],
   "source": [
    "import pandas as pd\n",
    "import numpy as np\n",
    "import matplotlib.pyplot as plt\n",
    "from collections import defaultdict"
   ]
  },
  {
   "cell_type": "markdown",
   "id": "b31cd4a2-eea0-40ac-aeef-2d8f8c1b661d",
   "metadata": {},
   "source": [
    "Set matplotlib settings"
   ]
  },
  {
   "cell_type": "code",
   "execution_count": null,
   "id": "fe28a87d-ff18-4af3-a699-827a9b63d13a",
   "metadata": {},
   "outputs": [],
   "source": [
    "plt.rcParams[\"figure.figsize\"] = [10, 10]\n",
    "plt.rcParams[\"figure.autolayout\"] = True\n",
    "plt.rcParams.update({'font.size': 15})"
   ]
  },
  {
   "cell_type": "markdown",
   "id": "5ddeb30f-b4dc-4cb8-8bd8-8b265f75ed71",
   "metadata": {},
   "source": [
    "#### [Subread featurecounts](http://subread.sourceforge.net/) data preparation"
   ]
  },
  {
   "cell_type": "markdown",
   "id": "22de3534-710e-46c8-aa84-facb0bb9d29f",
   "metadata": {},
   "source": [
    "Populate dictionary"
   ]
  },
  {
   "cell_type": "code",
   "execution_count": null,
   "id": "6ace6036-49c2-4958-ae00-f5ec6af7e173",
   "metadata": {},
   "outputs": [],
   "source": [
    "subreads_counts = {}\n",
    "with open(snakemake.input.subread_count, 'r') as file:\n",
    "    next(file)\n",
    "    next(file)\n",
    "    for line in file:\n",
    "        line = line.split()\n",
    "        counts = [int(count) for count in line[6:]]\n",
    "        subreads_counts[line[0]] = [line[1], line[2], line[3], line[4], line[5]] + counts"
   ]
  },
  {
   "cell_type": "markdown",
   "id": "67d64dff-f445-490c-911e-1cf69c9fd32e",
   "metadata": {},
   "source": [
    "Dictionary to dataframe"
   ]
  },
  {
   "cell_type": "code",
   "execution_count": null,
   "id": "de54080a-88aa-4671-99e2-21dd3b8c8f72",
   "metadata": {},
   "outputs": [],
   "source": [
    "cols = ['chr', 'start', 'end', 'strand', 'length'] + snakemake.params.datasetnames\n",
    "subreads_df = pd.DataFrame.from_dict(subreads_counts, orient='index', columns=cols)"
   ]
  },
  {
   "cell_type": "markdown",
   "id": "68bc2ca0-84b7-4983-a9b7-2faa775d0ea7",
   "metadata": {},
   "source": [
    "Take a look at the dataframe"
   ]
  },
  {
   "cell_type": "code",
   "execution_count": null,
   "id": "68f1cd1a-f7bd-4b62-844d-46310c127adb",
   "metadata": {},
   "outputs": [],
   "source": [
    "subreads_df"
   ]
  },
  {
   "cell_type": "markdown",
   "id": "a22a8142-b233-4835-882b-f5c2e7dee6c7",
   "metadata": {},
   "source": [
    "#### Plots subread"
   ]
  },
  {
   "cell_type": "markdown",
   "id": "71d9c7ff-1f43-4ace-bc46-30021ff59708",
   "metadata": {},
   "source": [
    "Get total counts per sample"
   ]
  },
  {
   "cell_type": "code",
   "execution_count": null,
   "id": "5101f612-55bf-48fe-87e8-ddc5527989e0",
   "metadata": {},
   "outputs": [],
   "source": [
    "totals = []\n",
    "for sample in snakemake.params.datasetnames:\n",
    "    totals.append(subreads_df[sample].sum())"
   ]
  },
  {
   "cell_type": "markdown",
   "id": "68f66447-e07c-4c48-b4a8-e0b863b90381",
   "metadata": {},
   "source": [
    "Plot total counts per sample"
   ]
  },
  {
   "cell_type": "code",
   "execution_count": null,
   "id": "2f1cdf17-bdda-43a1-bd05-f32a08060f2b",
   "metadata": {},
   "outputs": [],
   "source": [
    "plt.bar(snakemake.params.datasetnames, totals)\n",
    "plt.ylabel('Number of transcripts')\n",
    "plt.xlabel('sample number')\n",
    "plt.title('Total count per sample')\n",
    "plt.xticks(rotation=30, ha='right')\n",
    "plt.savefig(snakemake.output.total, dpi=200)"
   ]
  },
  {
   "cell_type": "markdown",
   "id": "cc9709a2-50f0-4734-8b59-1a4357d0442b",
   "metadata": {},
   "source": [
    "Get count per annotated gene"
   ]
  },
  {
   "cell_type": "code",
   "execution_count": null,
   "id": "e4b0fa6c-dc56-4341-8fde-873c56b7f347",
   "metadata": {},
   "outputs": [],
   "source": [
    "count_per_gene = {}\n",
    "for gene_name, values in subreads_counts.items():\n",
    "    count_per_gene[gene_name] = sum(subreads_counts[gene_name][len(snakemake.params.datasetnames):])"
   ]
  },
  {
   "cell_type": "markdown",
   "id": "82a956e6-b0ac-4504-8ca4-f2ea014cc8de",
   "metadata": {},
   "source": [
    "Plot count per annotated gene"
   ]
  },
  {
   "cell_type": "code",
   "execution_count": null,
   "id": "6ef33a53-54d5-4996-b911-a626620abf2b",
   "metadata": {},
   "outputs": [],
   "source": [
    "labels, data = [*zip(*count_per_gene.items())]\n",
    "plt.rcParams[\"figure.figsize\"] = [50, 10]\n",
    "plt.bar(labels, data)\n",
    "plt.ylabel('Number of raw counts')\n",
    "plt.xlabel('feature')\n",
    "plt.xticks(rotation=30, ha='right')\n",
    "plt.title('Raw counts per feature')\n",
    "plt.savefig(snakemake.output.per_feature, dpi=200)"
   ]
  },
  {
   "cell_type": "markdown",
   "id": "1b48dedf-d099-496c-8b23-40485b82b438",
   "metadata": {},
   "source": [
    "#### Pipeline counts data preparation"
   ]
  },
  {
   "cell_type": "markdown",
   "id": "792096b8-9441-4e6f-9fbf-e4ae1f7733cb",
   "metadata": {},
   "source": [
    "Function for sorting oxford counts"
   ]
  },
  {
   "cell_type": "code",
   "execution_count": null,
   "id": "425c2aef-1a0e-45d5-9ef7-f85bc132d7f8",
   "metadata": {},
   "outputs": [],
   "source": [
    "def sort_ox(sort_order, counts):\n",
    "    with open(snakemake.input.oxford_count, 'r') as file:\n",
    "        order = file.readline().strip().split(',')[1:]\n",
    "    current_order = [(i,j) for i,j in zip(order,counts)]\n",
    "    current_order.sort(key = lambda i: sort_order.index(i[0]))\n",
    "    sorted_counts = [item[1] for item in current_order]\n",
    "    return sorted_counts"
   ]
  },
  {
   "cell_type": "markdown",
   "id": "016a2249-b610-4b58-aeda-1d1279a76a9b",
   "metadata": {},
   "source": [
    "Read in count data and populate dictonary"
   ]
  },
  {
   "cell_type": "code",
   "execution_count": null,
   "id": "3e553b14-9e40-40bc-a9fe-b36a87f333df",
   "metadata": {
    "tags": []
   },
   "outputs": [],
   "source": [
    "count_dict = {}\n",
    "\n",
    "counts_location = range(11, 11+len(snakemake.params.datasetnames))\n",
    "talon_samples = np.genfromtxt(snakemake.input.talon_count, delimiter='\\t', skip_header=True, usecols=(counts_location))\n",
    "count_dict['talon'] = talon_samples.sum(axis=0)\n",
    "\n",
    "counts_location = range(1, 1+len(snakemake.params.datasetnames))\n",
    "flair_samples = np.genfromtxt(snakemake.input.flair_count, delimiter='\\t', skip_header=True, usecols=counts_location)\n",
    "count_dict['flair'] = flair_samples.sum(axis=0)\n",
    "    \n",
    "counts_location = range(1, 1+len(snakemake.params.datasetnames))\n",
    "oxford_samples = np.genfromtxt(snakemake.input.oxford_count, delimiter=',', skip_header=True, usecols=counts_location)\n",
    "                              \n",
    "counts = oxford_samples.sum(axis=0)\n",
    "sorted_counts = sort_ox(snakemake.params.datasetnames, counts)\n",
    "count_dict['oxford'] = sorted_counts\n",
    "\n",
    "counts_location = range(6, 6+len(snakemake.params.datasetnames))\n",
    "subread_samples = np.genfromtxt(snakemake.input.subread_count, delimiter='\\t', skip_header=2, usecols=counts_location)\n",
    "count_dict['subread'] = subread_samples.sum(axis=0)"
   ]
  },
  {
   "cell_type": "markdown",
   "id": "653b680f-be0a-4d17-b06b-5caa4ebc82f2",
   "metadata": {},
   "source": [
    "Dictionary to dataframe"
   ]
  },
  {
   "cell_type": "code",
   "execution_count": null,
   "id": "c5418a70-096f-4b80-b56b-4020f92aeaca",
   "metadata": {},
   "outputs": [],
   "source": [
    "rename = {num: name for (num, name) in enumerate(snakemake.params.datasetnames)}\n",
    "count = pd.DataFrame.from_dict(count_dict)\n",
    "count = count.rename(index=rename)"
   ]
  },
  {
   "cell_type": "markdown",
   "id": "de85f1ce-10d1-4c7a-8a7d-44fa09641bcd",
   "metadata": {},
   "source": [
    "Take a look at the dataframe"
   ]
  },
  {
   "cell_type": "code",
   "execution_count": null,
   "id": "7da27d03-d14b-41a3-b522-9234ebbbd108",
   "metadata": {},
   "outputs": [],
   "source": [
    "count"
   ]
  },
  {
   "cell_type": "markdown",
   "id": "3a532799-7b83-4a5b-be4a-a8c0f0397335",
   "metadata": {},
   "source": [
    "#### Plots pipeline counts + subread"
   ]
  },
  {
   "cell_type": "markdown",
   "id": "cc34a40c-ca55-4bf1-b089-0726de432506",
   "metadata": {},
   "source": [
    "Plot total number of counts per sample per pipeline"
   ]
  },
  {
   "cell_type": "code",
   "execution_count": null,
   "id": "1db60b68-ebc5-4885-b020-7de952628cbf",
   "metadata": {},
   "outputs": [],
   "source": [
    "count.plot(kind=\"bar\", figsize=(10, 5))\n",
    "plt.yscale('log')\n",
    "plt.ylabel('Raw total count')\n",
    "plt.xlabel('sample number')\n",
    "plt.title('Total number of counts per sample per pipeline')\n",
    "plt.xticks(rotation=30, ha='right')\n",
    "plt.savefig(snakemake.output.comp, dpi=200)"
   ]
  }
 ],
 "metadata": {
  "kernelspec": {
   "display_name": "Python 3 (ipykernel)",
   "language": "python",
   "name": "python3"
  },
  "language_info": {
   "codemirror_mode": {
    "name": "ipython",
    "version": 3
   },
   "file_extension": ".py",
   "mimetype": "text/x-python",
   "name": "python",
   "nbconvert_exporter": "python",
   "pygments_lexer": "ipython3",
   "version": "3.8.5"
  }
 },
 "nbformat": 4,
 "nbformat_minor": 5
}
