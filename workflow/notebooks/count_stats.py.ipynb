{
 "cells": [
  {
   "cell_type": "markdown",
   "id": "5cfe72ee-8c68-48f4-bdbb-e059768b994c",
   "metadata": {},
   "source": [
    "# Transcript abundance statistics"
   ]
  },
  {
   "cell_type": "markdown",
   "id": "e746d14d-c493-406b-aaab-a545b04622a4",
   "metadata": {},
   "source": [
    "selfnote:\n",
    "input:\n",
    "annotation counts from rule annotation_count\n",
    "flar, oxford, talon count files"
   ]
  },
  {
   "cell_type": "markdown",
   "id": "fdbe97f2-0434-4ffa-a3ba-b0153ec0033d",
   "metadata": {},
   "source": [
    "Import required modules"
   ]
  },
  {
   "cell_type": "code",
   "execution_count": 2,
   "id": "5a542f24-bb52-433b-9b2b-9668e053fcfd",
   "metadata": {},
   "outputs": [],
   "source": [
    "import pandas as pd\n",
    "import numpy as np\n",
    "import matplotlib.pyplot as plt"
   ]
  },
  {
   "cell_type": "markdown",
   "id": "5ddeb30f-b4dc-4cb8-8bd8-8b265f75ed71",
   "metadata": {},
   "source": [
    "#### [Subread featurecounts](http://subread.sourceforge.net/) data preparation"
   ]
  },
  {
   "cell_type": "markdown",
   "id": "22de3534-710e-46c8-aa84-facb0bb9d29f",
   "metadata": {},
   "source": [
    "Populate dictionary"
   ]
  },
  {
   "cell_type": "code",
   "execution_count": null,
   "id": "6ace6036-49c2-4958-ae00-f5ec6af7e173",
   "metadata": {},
   "outputs": [],
   "source": [
    "subreads_counts = {}\n",
    "with open(snakemake.input.annocount, 'r') as file:\n",
    "    next(file)\n",
    "    next(file)\n",
    "    for line in file:\n",
    "        line = line.split()\n",
    "        a = [int(line[6])]\n",
    "        subreads_counts[line[0]] = sum(a)"
   ]
  },
  {
   "cell_type": "markdown",
   "id": "67d64dff-f445-490c-911e-1cf69c9fd32e",
   "metadata": {},
   "source": [
    "Dictionary to dataframe"
   ]
  },
  {
   "cell_type": "code",
   "execution_count": null,
   "id": "de54080a-88aa-4671-99e2-21dd3b8c8f72",
   "metadata": {},
   "outputs": [],
   "source": [
    "subreads_df = pd.DataFrame.from_dict(subreads_counts, orient='index')"
   ]
  },
  {
   "cell_type": "markdown",
   "id": "68bc2ca0-84b7-4983-a9b7-2faa775d0ea7",
   "metadata": {},
   "source": [
    "Take a look at the dataframe"
   ]
  },
  {
   "cell_type": "code",
   "execution_count": null,
   "id": "68f1cd1a-f7bd-4b62-844d-46310c127adb",
   "metadata": {},
   "outputs": [],
   "source": [
    "subreads_df"
   ]
  },
  {
   "cell_type": "markdown",
   "id": "1b48dedf-d099-496c-8b23-40485b82b438",
   "metadata": {},
   "source": [
    "#### Pipeline counts data preparation"
   ]
  },
  {
   "cell_type": "code",
   "execution_count": null,
   "id": "b859a8a6-280e-4ca6-8832-ca34f49834cf",
   "metadata": {},
   "outputs": [],
   "source": [
    "sample_dict = defaultdict(list)\n",
    "talon_samples = np.genfromtxt(snakemake.input.talon_count, delimiter='\\t', skip_header=True)\n",
    "flair_samples = np.genfromtxt(snakemake.input.flair_count, delimiter='\\t', skip_header=True)\n",
    "oxford_samples = np.genfromtxt(snakemake.input.oxford_count, delimiter=',', skip_header=True)\n",
    "subreads_samples = np.genfromtxt(snakemake.input.annocount, delimiter='\\t', skip_header=True)"
   ]
  },
  {
   "cell_type": "markdown",
   "id": "016a2249-b610-4b58-aeda-1d1279a76a9b",
   "metadata": {},
   "source": [
    "Populate dictonary"
   ]
  },
  {
   "cell_type": "code",
   "execution_count": null,
   "id": "3e553b14-9e40-40bc-a9fe-b36a87f333df",
   "metadata": {},
   "outputs": [],
   "source": [
    "# temporary solution, rewrite this later\n",
    "for i, j in enumerate(range(1, len(oxford_samples[0]))):\n",
    "    sample_dict[i + 1].append(np.nansum(oxford_samples[:, j]))\n",
    "for i, j in enumerate(range(1, len(flair_samples[0]))):\n",
    "    sample_dict[i + 1].append(np.nansum(flair_samples[:, j]))\n",
    "for i, j in enumerate(range(11, len(talon_samples[0]))):\n",
    "    sample_dict[i + 1].append(np.nansum(talon_samples[:, j]))\n",
    "for i, j in enumerate(range(7, len(subreads_samples[0]))):\n",
    "    sample_dict[i + 1].append(np.nansum(subreads_samples[:, j]))"
   ]
  },
  {
   "cell_type": "code",
   "execution_count": null,
   "id": "c5418a70-096f-4b80-b56b-4020f92aeaca",
   "metadata": {},
   "outputs": [],
   "source": [
    "samples = pd.DataFrame.from_dict(sample_dict, orient='index', columns=['oxford', 'flair', 'talon', 'subread'])"
   ]
  },
  {
   "cell_type": "markdown",
   "id": "a4d8f9bf-201a-48c8-8651-16bc5f55bb64",
   "metadata": {},
   "source": [
    "#### Plots subread"
   ]
  },
  {
   "cell_type": "markdown",
   "id": "1fd4529b-8913-429f-92b8-7e36c8f48ccf",
   "metadata": {},
   "source": [
    "Get total counts per sample"
   ]
  },
  {
   "cell_type": "code",
   "execution_count": null,
   "id": "5101f612-55bf-48fe-87e8-ddc5527989e0",
   "metadata": {},
   "outputs": [],
   "source": [
    "totals = []\n",
    "for column in subreads_df.loc[4:]:\n",
    "    totals.append(subreads_df[column])"
   ]
  },
  {
   "cell_type": "code",
   "execution_count": null,
   "id": "2f1cdf17-bdda-43a1-bd05-f32a08060f2b",
   "metadata": {},
   "outputs": [],
   "source": [
    "plt.bar(totals)\n",
    "plt.ylabel('Number of transcripts')\n",
    "plt.xlabel('sample number')\n",
    "plt.title('Total count per sample')\n",
    "plt.savefig(snakemake.output.total, dpi=200)"
   ]
  },
  {
   "cell_type": "markdown",
   "id": "d5911216-8389-4b9a-932b-8a7cdc92c847",
   "metadata": {},
   "source": [
    "Plot count per annotated gene"
   ]
  },
  {
   "cell_type": "code",
   "execution_count": null,
   "id": "6ef33a53-54d5-4996-b911-a626620abf2b",
   "metadata": {},
   "outputs": [],
   "source": [
    "labels, data = [*zip(*subreads_counts.items())]\n",
    "plt.bar(labels,data)\n",
    "plt.ylabel('Number of raw counts')\n",
    "plt.xlabel('feature')\n",
    "plt.title('Raw counts per feature')\n",
    "plt.xticks(rotation=30, ha='right')\n",
    "plt.savefig(snakemake.output.per_feature, dpi=200)"
   ]
  },
  {
   "cell_type": "markdown",
   "id": "3a532799-7b83-4a5b-be4a-a8c0f0397335",
   "metadata": {},
   "source": [
    "#### Plots pipeline counts + subread"
   ]
  },
  {
   "cell_type": "markdown",
   "id": "cc34a40c-ca55-4bf1-b089-0726de432506",
   "metadata": {},
   "source": [
    "Plot total number of counts per sample per pipeline"
   ]
  },
  {
   "cell_type": "code",
   "execution_count": null,
   "id": "1db60b68-ebc5-4885-b020-7de952628cbf",
   "metadata": {},
   "outputs": [],
   "source": [
    "samples.plot(kind=\"bar\", figsize=(10, 5))\n",
    "plt.yscale('log')\n",
    "plt.ylabel('Raw total count')\n",
    "plt.xlabel('sample number')\n",
    "plt.title('Total number of counts per sample per pipeline')\n",
    "plt.savefig(snakemake.output.comp, dpi=200)"
   ]
  }
 ],
 "metadata": {
  "kernelspec": {
   "display_name": "Python 3 (ipykernel)",
   "language": "python",
   "name": "python3"
  },
  "language_info": {
   "codemirror_mode": {
    "name": "ipython",
    "version": 3
   },
   "file_extension": ".py",
   "mimetype": "text/x-python",
   "name": "python",
   "nbconvert_exporter": "python",
   "pygments_lexer": "ipython3",
   "version": "3.8.5"
  }
 },
 "nbformat": 4,
 "nbformat_minor": 5
}
